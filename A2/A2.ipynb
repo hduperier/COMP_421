{
 "cells": [
  {
   "cell_type": "markdown",
   "metadata": {
    "editable": false,
    "slideshow": {
     "slide_type": "slide"
    }
   },
   "source": [
    "# COMP 421 Fall 2022 Assignment 2\n",
    "\n",
    "<img src=\"https://comp421.cs.unc.edu/static/images/COMP421Logo.png\" \n",
    "     align=\"right\" style=\"display:inline; width:100px; \">\n",
    "\n",
    "Answer each question below by filling in code at the point indicated.\n",
    "Do not modify any cells that say <font color=\"red\">\"You cannot and should not update this cell\"!</font>\n",
    "\n",
    "You __<font color=\"red\">must</font>__ run the cells in order. It looks like you can come back later after restarting and pick up where you left off but that is not the case. When restarting you always have to start at the top of the notebook and run each cell in turn. \n",
    "\n",
    "The data supplied to you in this assignment will be graded with slightly different data.\n",
    "For example, if a question asks you to create a list of names from the \n",
    "database and your code simply sets the list to the answers without \n",
    "querying the database, your answer will not be accepted by the grader."
   ]
  },
  {
   "cell_type": "code",
   "execution_count": 56,
   "metadata": {
    "editable": false,
    "execution": {},
    "slideshow": {
     "slide_type": "slide"
    }
   },
   "outputs": [
    {
     "data": {
      "application/javascript": [
       "IPython.notebook.set_autosave_interval(15000)"
      ]
     },
     "metadata": {},
     "output_type": "display_data"
    },
    {
     "name": "stdout",
     "output_type": "stream",
     "text": [
      "Autosaving every 15 seconds\n"
     ]
    }
   ],
   "source": [
    "# You cannot and should not update this cell\n",
    "# setup\n",
    "%autosave 15\n",
    "import sqlite3\n",
    "conn = sqlite3.connect('football.sqlite')\n",
    "cursor = conn.cursor()\n",
    "cursor.execute('PRAGMA foreign_keys = ON')\n",
    "\n",
    "import comp421\n",
    "check, report = comp421.start('A2')"
   ]
  },
  {
   "cell_type": "code",
   "execution_count": 57,
   "metadata": {
    "execution": {},
    "slideshow": {
     "slide_type": "slide"
    }
   },
   "outputs": [],
   "source": [
    "# fill in your info here\n",
    "Author = \"henryha\"\n",
    "Collaborators = ['jnchay']"
   ]
  },
  {
   "cell_type": "code",
   "execution_count": 58,
   "metadata": {
    "editable": false,
    "execution": {},
    "slideshow": {
     "slide_type": "slide"
    }
   },
   "outputs": [
    {
     "name": "stdout",
     "output_type": "stream",
     "text": [
      "Author appears correct\n",
      "Collaborators appears correct\n"
     ]
    }
   ],
   "source": [
    "# You cannot and should not update this cell\n",
    "check('Author', Author != 'youronyen', points=1, sort=True)\n",
    "check('Collaborators', Collaborators != ['list', 'their', 'onyens', 'here'], points=1, sort=True)"
   ]
  },
  {
   "cell_type": "markdown",
   "metadata": {
    "editable": false,
    "slideshow": {
     "slide_type": "slide"
    }
   },
   "source": [
    "<img src=\"https://collegefootballdata.com/LetterLogo.png\" width=\"200\" style=\"float: right\"/>\n",
    "\n",
    "The database we'll be using in `football.sqlite`.\n",
    "It is my attempt to get as much information from college football in one place.\n",
    "The information was taken from [CollegeFootballData.com](https://collegefootballdata.com/) which\n",
    "is a sports statistics and analytics website with no direct affiliation to the NCAA, its member conferences, or its member teams.\n",
    "\n",
    "<p/>\n",
    "If there are mistakes in the data, it's all my fault.\n",
    "This is **not** an official database.\n",
    "\n",
    "This database has the following schema:\n",
    "```\n",
    "CREATE TABLE Conferences\n",
    "     (conf_id INTEGER PRIMARY KEY,\n",
    "      name TEXT,\n",
    "      long_name TEXT)\n",
    "      \n",
    "CREATE TABLE Teams\n",
    "     (team_id INTEGER PRIMARY KEY,\n",
    "      school_name TEXT,\n",
    "      mascot TEXT,\n",
    "      conf_id INTEGER,\n",
    "      FOREIGN KEY(conf_id) REFERENCES Conferences(conf_id) ON DELETE CASCADE)\n",
    "      \n",
    "CREATE TABLE Stadiums\n",
    "     (stadium_id INTEGER PRIMARY KEY,\n",
    "      name TEXT,\n",
    "      capacity INTEGER,\n",
    "      city TEXT,\n",
    "      state TEXT,\n",
    "      zip TEXT,\n",
    "      latitude REAL,\n",
    "      longitude REAL,\n",
    "      elevation REAL,\n",
    "      team_id INTEGER,\n",
    "      FOREIGN KEY(team_id) REFERENCES Teams(team_id) ON DELETE CASCADE)\n",
    "\n",
    "CREATE TABLE Rosters\n",
    "    (roster_id INTEGER PRIMARY KEY,\n",
    "     first_name TEXT,\n",
    "     last_name TEXT,\n",
    "     height INTEGER,\n",
    "     weight INTEGER,\n",
    "     year INTEGER,\n",
    "     position TEXT,\n",
    "     city TEXT,\n",
    "     state TEXT,\n",
    "     zip TEXT,\n",
    "     latitude REAL,\n",
    "     longitude REAL,\n",
    "     jersey_number INTEGER,\n",
    "     team_id INTEGER,\n",
    "     FOREIGN KEY(team_id) REFERENCES Teams(team_id) ON DELETE CASCADE)\n",
    "     \n",
    "CREATE TABLE Games\n",
    "    (game_id INTEGER PRIAMRY KEY,\n",
    "     home_team_id INTEGER,\n",
    "     home_team TEXT,\n",
    "     away_team_id INTEGER,\n",
    "     away_team TEXT,\n",
    "     start_date TEXT,\n",
    "     stadium_id INTEGER,\n",
    "     completed INTEGER,               -- 0 False, otherwise True\n",
    "     conference_game INTEGER,         -- 0 False, otherwise True\n",
    "     attendance INTEGER DEFAULT NULL, -- NULL until game starts\n",
    "     home_points INTEGER,\n",
    "     away_points INTEGER,\n",
    "     week INTEGER,                    -- Conference week number\n",
    "     FOREIGN KEY(home_team_id) REFERENCES Teams(team_id) ON DELETE SET NULL,\n",
    "     FOREIGN KEY(away_team_id) REFERENCES Teams(team_id) ON DELETE SET NULL,\n",
    "     FOREIGN KEY(stadium_id) REFERENCES Stadiums(stadium_id) ON DELETE SET NULL)\n",
    "```\n",
    "\n",
    "Write code in the cells below to answer each question."
   ]
  },
  {
   "cell_type": "markdown",
   "metadata": {
    "editable": false,
    "slideshow": {
     "slide_type": "slide"
    }
   },
   "source": [
    "## 1. Find the following using SQL queries"
   ]
  },
  {
   "cell_type": "markdown",
   "metadata": {
    "editable": false,
    "slideshow": {
     "slide_type": "slide"
    }
   },
   "source": [
    "**1a** UNC is known the college football database as 'North Carolina'.\n",
    "\n",
    "Set variable `q1a` equal to the mascot name of UNC."
   ]
  },
  {
   "cell_type": "code",
   "execution_count": 59,
   "metadata": {
    "execution": {},
    "slideshow": {
     "slide_type": "slide"
    }
   },
   "outputs": [
    {
     "name": "stdout",
     "output_type": "stream",
     "text": [
      "The mascot of school North Carolina is Tar Heels.\n"
     ]
    }
   ],
   "source": [
    "# write your query as a single string here\n",
    "a1a = \"\"\"SELECT T.mascot FROM Teams AS T WHERE T.school_name='North Carolina'\"\"\"\n",
    "\n",
    "# code to execute your query, leave this alone\n",
    "q1a = cursor.execute(a1a).fetchone()[0]\n",
    "print(f'The mascot of school North Carolina is {q1a}.')"
   ]
  },
  {
   "cell_type": "code",
   "execution_count": 60,
   "metadata": {
    "editable": false,
    "execution": {},
    "slideshow": {
     "slide_type": "slide"
    }
   },
   "outputs": [
    {
     "name": "stdout",
     "output_type": "stream",
     "text": [
      "1a appears correct\n"
     ]
    }
   ],
   "source": [
    "# you cannot and should not update this cell\n",
    "check('1a', q1a, points=8)"
   ]
  },
  {
   "cell_type": "markdown",
   "metadata": {
    "editable": false,
    "slideshow": {
     "slide_type": "slide"
    }
   },
   "source": [
    "**1b**. According to the college football database, how many teams are in the conference named 'ACC'?\n",
    "\n",
    "Set the variable `q1b` equal to the number of people involved in Marvel movies that were born in 1996."
   ]
  },
  {
   "cell_type": "code",
   "execution_count": 61,
   "metadata": {
    "execution": {},
    "slideshow": {
     "slide_type": "slide"
    }
   },
   "outputs": [
    {
     "name": "stdout",
     "output_type": "stream",
     "text": [
      "According to the college football database there are 14 teams in the ACC football conference.\n"
     ]
    }
   ],
   "source": [
    "a1b = \"\"\"SELECT COUNT(*) FROM (SELECT T.team_id FROM Conferences AS C, Teams AS T WHERE C.name='ACC' AND C.conf_id=T.conf_id)\"\"\"\n",
    "\n",
    "# test code\n",
    "q1b = cursor.execute(a1b).fetchone()[0]\n",
    "print(f'According to the college football database there are {q1b} teams in the ACC football conference.')"
   ]
  },
  {
   "cell_type": "code",
   "execution_count": 62,
   "metadata": {
    "editable": false,
    "execution": {},
    "slideshow": {
     "slide_type": "slide"
    }
   },
   "outputs": [
    {
     "name": "stdout",
     "output_type": "stream",
     "text": [
      "1b appears correct\n"
     ]
    }
   ],
   "source": [
    "# you cannot and should not update this cell\n",
    "check('1b', q1b, points=10)"
   ]
  },
  {
   "cell_type": "markdown",
   "metadata": {
    "editable": false,
    "slideshow": {
     "slide_type": "slide"
    }
   },
   "source": [
    "**1c**. Again, according to the college football database,\n",
    "what are the school names and mascots of teams in the ACC?\n",
    "\n",
    "Set the variable `q1c` equal to the result of a SQL query that returns a Python list of tuples where the first tuple element is the school name and the second tuple element is the mascot.  The Python list should be in alphabetical order according to mascot."
   ]
  },
  {
   "cell_type": "code",
   "execution_count": 63,
   "metadata": {
    "execution": {},
    "slideshow": {
     "slide_type": "slide"
    }
   },
   "outputs": [
    {
     "name": "stdout",
     "output_type": "stream",
     "text": [
      "[('Duke', 'Blue Devils'), ('Louisville', 'Cardinals'), ('Virginia', 'Cavaliers'), ('Wake Forest', 'Demon Deacons'), ('Boston College', 'Eagles'), ('Virginia Tech', 'Hokies'), ('Miami', 'Hurricanes'), ('Syracuse', 'Orange'), ('Pittsburgh', 'Panthers'), ('Florida State', 'Seminoles'), ('North Carolina', 'Tar Heels'), ('Clemson', 'Tigers'), ('NC State', 'Wolfpack'), ('Georgia Tech', 'Yellow Jackets')]\n"
     ]
    }
   ],
   "source": [
    "a1c = \"\"\"SELECT T.school_name, T.mascot FROM Conferences AS C, Teams AS T WHERE C.name='ACC' AND C.conf_id=T.conf_id ORDER BY T.mascot\"\"\"\n",
    "\n",
    "# test\n",
    "q1c = cursor.execute(a1c).fetchall()\n",
    "print(q1c)\n",
    "#for row in q1c:\n",
    "    #print(f'{row[0]} has a mascot named {row[1]}')"
   ]
  },
  {
   "cell_type": "code",
   "execution_count": 64,
   "metadata": {
    "editable": false,
    "execution": {},
    "slideshow": {
     "slide_type": "slide"
    }
   },
   "outputs": [
    {
     "name": "stdout",
     "output_type": "stream",
     "text": [
      "1c appears correct\n"
     ]
    }
   ],
   "source": [
    "# you cannot and should not update this cell\n",
    "check('1c', q1c, points=10)"
   ]
  },
  {
   "cell_type": "markdown",
   "metadata": {
    "editable": false,
    "slideshow": {
     "slide_type": "slide"
    }
   },
   "source": [
    "**1d**. What is the stadium name and seating capacity of the UNC football team?\n",
    "\n",
    "Write a SQL query that returns the stadium name and stadium capacity for UNC and\n",
    "assign it's output to `q1d`."
   ]
  },
  {
   "cell_type": "code",
   "execution_count": 65,
   "metadata": {
    "execution": {},
    "slideshow": {
     "slide_type": "slide"
    }
   },
   "outputs": [
    {
     "name": "stdout",
     "output_type": "stream",
     "text": [
      "('Kenan Memorial Stadium', 50500)\n"
     ]
    }
   ],
   "source": [
    "c1d = \"\"\"SELECT S.name, S.capacity FROM Stadiums AS S, Teams AS T WHERE S.team_id=T.team_id AND T.school_name='North Carolina'\"\"\"\n",
    "cursor.execute(c1d)\n",
    "q1f=cursor.fetchall()\n",
    "q1d=q1f[0]\n",
    "\n",
    "print(q1d)\n",
    "#print(f'UNC uses stadium {q1d[0]} with a capacity of {q1d[1]} for home football games.')"
   ]
  },
  {
   "cell_type": "code",
   "execution_count": 66,
   "metadata": {
    "editable": false,
    "execution": {},
    "slideshow": {
     "slide_type": "slide"
    }
   },
   "outputs": [
    {
     "name": "stdout",
     "output_type": "stream",
     "text": [
      "1d appears correct\n"
     ]
    }
   ],
   "source": [
    "# You cannot and should not update this cell\n",
    "check('1d', q1d, points=10)"
   ]
  },
  {
   "cell_type": "markdown",
   "metadata": {
    "editable": false,
    "slideshow": {
     "slide_type": "slide"
    }
   },
   "source": [
    "**1e**. By seating capacity, what is the largest stadium in the ACC?\n",
    "\n",
    "Write a SQL query that returns the school name, stadium name, and stadium capacity for the\n",
    "school in the ACC with the largest capacity football stadium?"
   ]
  },
  {
   "cell_type": "code",
   "execution_count": 67,
   "metadata": {
    "execution": {},
    "slideshow": {
     "slide_type": "slide"
    }
   },
   "outputs": [
    {
     "name": "stdout",
     "output_type": "stream",
     "text": [
      "('Clemson', 'Memorial Stadium', 81500)\n"
     ]
    }
   ],
   "source": [
    "testing = \"\"\"SELECT newSchoolName, newStadiumName, max(newStadiumCapacity) FROM (SELECT T.school_name AS newSchoolName, S.name AS newStadiumName, S.capacity AS newStadiumCapacity, C.name AS newConfName FROM Teams AS T, Stadiums AS S, Conferences AS C WHERE C.name='ACC' AND C.conf_id=T.conf_id AND T.team_id=S.team_id)\"\"\"\n",
    "cursor.execute(testing)\n",
    "test1=cursor.fetchall()\n",
    "q1e=test1[0]\n",
    "print(q1e)\n",
    "#print(f'The largest stadium capacity in the ACC is stadium {q1e[1]} used by {q1e[0]} with a capacity of {q1e[2]}')"
   ]
  },
  {
   "cell_type": "code",
   "execution_count": 68,
   "metadata": {
    "editable": false,
    "execution": {},
    "slideshow": {
     "slide_type": "slide"
    }
   },
   "outputs": [
    {
     "name": "stdout",
     "output_type": "stream",
     "text": [
      "1e appears correct\n"
     ]
    }
   ],
   "source": [
    "# You cannot and should not update this cell\n",
    "check('1e', q1e, points=10)"
   ]
  },
  {
   "cell_type": "markdown",
   "metadata": {
    "editable": false,
    "slideshow": {
     "slide_type": "slide"
    }
   },
   "source": [
    "## 2. Fill in the body of the functions below.\n",
    "\n",
    "**2a**. Fill in the code below to make this function return the full name (first, single blank, then last name) of\n",
    "the football player with the lowest number jersey from the school name passed in.\n",
    "If multiple people have the same number, return the player with that jersey number that has a last name that appears alphabetically last.\n",
    "\n",
    "**INPUT**: The function will take a parameter `school_name`.<br />     \n",
    "**OUTPUT**: The function will return a single string with the full name of the football player from that school with the lowest, non-null jersey number.\n",
    "If multiple players have the same jersey number, return the full name of the player with that jersey number that has a last name that appears last alphabetically.\n",
    "\n",
    "**NOTE:** In college football, player can have no number to signify a student who is not actively playing on the team.\n",
    "For example, [UNC Defensive Back, Ja'Qurious Conley](https://goheels.com/sports/football/roster/ja-qurious-conley/23313) suffered a season-ending injury on the opening kickoff against Wofford and has a jersey number of NULL"
   ]
  },
  {
   "cell_type": "code",
   "execution_count": 69,
   "metadata": {
    "execution": {},
    "slideshow": {
     "slide_type": "slide"
    }
   },
   "outputs": [
    {
     "name": "stdout",
     "output_type": "stream",
     "text": [
      "Kyler McMichael plays at North Carolina and has the lowest jersey number\n"
     ]
    }
   ],
   "source": [
    "def f2a(school_name):\n",
    "    str1=\"\"\"SELECT newFirstName, newLastName, min(newJerseyNum) FROM (SELECT R.first_name AS newFirstName, R.last_name AS newLastName, R.jersey_number AS newJerseyNum FROM Rosters AS R, Teams AS T WHERE T.school_name=\"\"\"\n",
    "    str2=school_name\n",
    "    str3=\"\"\" AND T.team_id=R.team_id ORDER BY R.last_name DESC)\"\"\"\n",
    "    str4= \"'\"\n",
    "    sqlTest=str1+str4+str2+str4+str3\n",
    "    \n",
    "    cursor.execute(sqlTest)\n",
    "    test1=cursor.fetchall()\n",
    "    return test1[0][0] + \" \" +test1[0][1]\n",
    "    \n",
    "\n",
    "school_name = 'North Carolina'\n",
    "q2a = f2a(school_name)\n",
    "print(f'{q2a} plays at {school_name} and has the lowest jersey number')"
   ]
  },
  {
   "cell_type": "code",
   "execution_count": 70,
   "metadata": {
    "editable": false,
    "execution": {},
    "slideshow": {
     "slide_type": "slide"
    }
   },
   "outputs": [
    {
     "name": "stdout",
     "output_type": "stream",
     "text": [
      "Jaelen Gill player at school Boston College and has the lowest jersey number\n",
      "2a-1 appears correct\n",
      "Jontavis Robertson player at school Duke and has the lowest jersey number\n",
      "2a-2 appears correct\n",
      "Kyler McMichael player at school North Carolina and has the lowest jersey number\n",
      "2a-3 appears correct\n",
      "Isaiah Moore player at school NC State and has the lowest jersey number\n",
      "2a-4 appears correct\n",
      "Sulaiman Kamara player at school Wake Forest and has the lowest jersey number\n",
      "2a-5 appears correct\n"
     ]
    }
   ],
   "source": [
    "# You cannot and should not update this cell\n",
    "teams = ['Boston College', 'Duke', 'North Carolina', 'NC State', 'Wake Forest']\n",
    "for index, team in enumerate(teams):\n",
    "    q2a = f2a(team)\n",
    "    print(f'{q2a} player at school {team} and has the lowest jersey number')\n",
    "    check(f'2a-{index+1}', q2a, points=10/len(teams))"
   ]
  },
  {
   "cell_type": "markdown",
   "metadata": {
    "editable": false,
    "slideshow": {
     "slide_type": "slide"
    }
   },
   "source": [
    "**2b.** Write a function that takes as input a conference name and a week number and returns the maximum number of points scored by the home team in a conference game in that week.\n",
    "\n",
    "**INPUT:** A conference game and a week number  \n",
    "**OUTPUT:** The maximum number of points scored by the home team in a conference game in that week.\n",
    "If there were no conference games that week, the return Python `None`."
   ]
  },
  {
   "cell_type": "code",
   "execution_count": 71,
   "metadata": {
    "execution": {},
    "slideshow": {
     "slide_type": "slide"
    }
   },
   "outputs": [
    {
     "name": "stdout",
     "output_type": "stream",
     "text": [
      "The maximum number of points scored by a home team in an ACC conference game in week 1 is 38\n"
     ]
    }
   ],
   "source": [
    "def f2b(conf_name, week_number):\n",
    "    str0 = \"\"\"SELECT max(newHomePoints) FROM (\"\"\"\n",
    "    str1 = \"\"\"SELECT G.home_points AS newHomePoints, C.name AS newConfName, G.week AS newWeek, G.home_team_id as newHTID, T.team_id AS newTID, G.conference_game AS newConfGameIDK FROM Games AS G, Conferences AS C, Teams AS T WHERE C.name=\"\"\"\n",
    "    str2 = \"'\"\n",
    "    str3=conf_name\n",
    "    str4 = \"\"\" AND G.week=\"\"\"\n",
    "    str5=str(week_number)\n",
    "    str6=\"\"\" AND C.conf_id=T.conf_id AND T.team_id=G.home_team_id AND G.conference_game=1\"\"\"\n",
    "    str7=\"\"\")\"\"\"\n",
    "    sqlTest0=str1+str2+str3+str2+str4+str5+str6\n",
    "    sqlTest1=str0+sqlTest0+str7\n",
    "    \n",
    "    cursor.execute(sqlTest1)\n",
    "    test1=cursor.fetchall()\n",
    "    if test1[0][0]== None:\n",
    "        return None\n",
    "    else:\n",
    "        return test1[0][0] #print(sqlTest1) #test1[0][0]\n",
    "    \n",
    "conf_name = 'ACC'\n",
    "week_number = 1\n",
    "q2b = f2b(conf_name, week_number)\n",
    "print(f'The maximum number of points scored by a home team in an {conf_name}',\n",
    "      f'conference game in week {week_number} is {q2b}' )"
   ]
  },
  {
   "cell_type": "code",
   "execution_count": 72,
   "metadata": {
    "editable": false,
    "execution": {},
    "scrolled": true,
    "slideshow": {
     "slide_type": "slide"
    }
   },
   "outputs": [
    {
     "name": "stdout",
     "output_type": "stream",
     "text": [
      "The maximum number of points scored by a home team in an ACC conference game in week 1 is 38\n",
      "2cb-1 appears correct\n",
      "The maximum number of points scored by a home team in an ACC conference game in week 2 is None\n",
      "2cb-2 appears correct\n",
      "The maximum number of points scored by a home team in an ACC conference game in week 3 is 59\n",
      "2cb-3 appears correct\n",
      "The maximum number of points scored by a home team in an ACC conference game in week 4 is 45\n",
      "2cb-4 appears correct\n"
     ]
    }
   ],
   "source": [
    "# You cannot and should not update this cell\n",
    "conf_name = 'ACC'\n",
    "for week_number in range(1, 5):\n",
    "    q2b = f2b(conf_name, week_number)\n",
    "    print(f'The maximum number of points scored by a home team in an {conf_name}',\n",
    "          f'conference game in week {week_number} is {q2b}' )\n",
    "    check(f'2cb-{week_number}', q2b, points=5)"
   ]
  },
  {
   "cell_type": "markdown",
   "metadata": {
    "editable": false,
    "slideshow": {
     "slide_type": "slide"
    }
   },
   "source": [
    "**2c**. Write a function that determines the most points scored \n",
    "by one team in the first week of the season where one of the \n",
    "teams is in the conference name parameter.\n",
    "The function should return the a tuple of information:\n",
    "the home team's points, the home team's school name, the away team's points, and the away team's school name.\n",
    "Since multiple games could have the most points scored,\n",
    "the function should return an array of tuples that has the information of all games that had the most points scored by one team.\n",
    "\n",
    "**INPUT**: The function will take a parameter `conf_name`.<br />\n",
    "**OUTPUT** A Python list of tuples such that  each tuple contains the home team's points and school name along with the away team's points and school name.\n",
    "Each of tuple information of games in the first week should one team from `conf_name` and one of the teams in each game should have scored the most points for week 1.\n",
    "\n",
    "\n",
    "**NOTE:** I highly recommend that you write a single query to return the information.\n",
    "You can do it in multiple queries, but that is less efficient."
   ]
  },
  {
   "cell_type": "code",
   "execution_count": 73,
   "metadata": {
    "execution": {},
    "scrolled": false,
    "slideshow": {
     "slide_type": "slide"
    }
   },
   "outputs": [
    {
     "name": "stdout",
     "output_type": "stream",
     "text": [
      "The max points scored by any team in ACC week one was:\n",
      "\tHome team Boston College scored 51 points while away team Colgate scored 0 points\n"
     ]
    }
   ],
   "source": [
    "def f2c(conf_name):\n",
    "    sqlTest0 = \"\"\"SELECT home_points, home_team, away_points, away_team FROM (SELECT MAX(points), gid FROM (SELECT G.home_points as points, G.game_id as gid, G.week as week FROM Conferences as C, Teams as T, Games as G WHERE C.conf_id=T.conf_id and (T.team_id = G.home_team_id) and G.completed != 0 and C.name = ? and G.week=1 UNION SELECT G.away_points as points, G.game_id as gid, G.week as week FROM Conferences AS C, Teams AS T, Games as G WHERE C.conf_id=T.conf_id and (T.team_id=G.away_team_id) and G.completed != 0 and C.name = ? and G.week=1)) as A, Games as G WHERE A.gid=G.game_id\"\"\"\n",
    "\n",
    "    test1=cursor.execute(sqlTest0, (conf_name, conf_name)).fetchall()\n",
    "    return test1\n",
    "    \n",
    "conf_name = 'ACC'\n",
    "q2c = f2c(conf_name)\n",
    "print(f'The max points scored by any team in {conf_name} week one was:')\n",
    "for row in q2c:\n",
    "    print(f'\\tHome team {row[1]} scored {row[0]} points while away team {row[3]} scored {row[2]} points')"
   ]
  },
  {
   "cell_type": "code",
   "execution_count": 74,
   "metadata": {
    "editable": false,
    "execution": {},
    "slideshow": {
     "slide_type": "slide"
    }
   },
   "outputs": [
    {
     "name": "stdout",
     "output_type": "stream",
     "text": [
      "The max points scored by any team in ACC week one was:\n",
      "\tHome team Boston College scored 51 points while away team Colgate scored 0 points\n",
      "\n",
      "2c-0 incorrect type\n",
      "your answer type is list of 1 (tuple of integer, string, integer, and string)\n",
      "expected type is list of 2 (tuples of integer, string, integer, and string)\n",
      "The max points scored by any team in Big Tem week one was:\n",
      "\n",
      "2c-1 appears correct\n",
      "The max points scored by any team in SEC week one was:\n",
      "\tHome team Auburn scored 60 points while away team Akron scored 10 points\n",
      "\n",
      "2c-2 appears correct\n",
      "The max points scored by any team in Pac-12 week one was:\n",
      "\tHome team UCLA scored 44 points while away team Hawai'i scored 10 points\n",
      "\n",
      "2c-3 incorrect type\n",
      "your answer type is list of 1 (tuple of integer, string, integer, and string)\n",
      "expected type is list of 3 (tuples of integer, string, integer, and string)\n"
     ]
    }
   ],
   "source": [
    "# You cannot and should not update this cell\n",
    "conferences = ['ACC', 'Big Tem', 'SEC', 'Pac-12']\n",
    "for index, conf_name in enumerate(conferences):\n",
    "    q2c = f2c(conf_name)\n",
    "    print(f'The max points scored by any team in {conf_name} week one was:')\n",
    "    for row in q2c:\n",
    "        print(f'\\tHome team {row[1]} scored {row[0]} points while away team {row[3]} scored {row[2]} points')\n",
    "    print()\n",
    "    check(f'2c-{index}', q2c, points=5)"
   ]
  },
  {
   "cell_type": "markdown",
   "metadata": {
    "editable": false,
    "slideshow": {
     "slide_type": "slide"
    }
   },
   "source": [
    "# Done!\n",
    "\n",
    "Now get your report, save, and submit your notebook. I recommend you restart the kernel, and run all, just to be sure things are going to work correctly when I run it."
   ]
  },
  {
   "cell_type": "code",
   "execution_count": 75,
   "metadata": {
    "deletable": false,
    "editable": false,
    "execution": {},
    "slideshow": {
     "slide_type": "slide"
    }
   },
   "outputs": [
    {
     "name": "stdout",
     "output_type": "stream",
     "text": [
      "2c-0 incorrect\n",
      "2c-3 incorrect\n",
      "  Collaborators: ['jnchay']\n",
      "Report for henryha\n",
      "  18 of 20 appear correct, 90 of 100 points\n"
     ]
    }
   ],
   "source": [
    "# You cannot and should not update this cell\n",
    "# This cell will produce a summary report of your assignment\n",
    "assert Author != 'youronyen'\n",
    "assert Collaborators != ['list', 'their', 'onyens', 'here']\n",
    "report(Author, Collaborators)"
   ]
  },
  {
   "cell_type": "markdown",
   "metadata": {
    "editable": false,
    "slideshow": {
     "slide_type": "slide"
    }
   },
   "source": [
    "## Done!\n",
    "<img src=\"https://comp421.cs.unc.edu/static/images/restartAndClearOutput.png\" width=\"300\" style=\"float: right\" />\n",
    "\n",
    "Now go back, restart the kernel (menu <font color=\"green\">Kernel</font>-><font color=\"green\">Restart and Clear</font>), and then Shift-Enter your way through the notebook to run all the cells again so you an be sure all your code will work as you expect during grading."
   ]
  },
  {
   "cell_type": "markdown",
   "metadata": {
    "editable": false,
    "slideshow": {
     "slide_type": "slide"
    }
   },
   "source": [
    "## Saving your work\n",
    "<img src=\"https://comp421.cs.unc.edu/static/images/saveAndCheckpoint.png\" width=\"300\" style=\"float: right\" />\n",
    "\n",
    "Now save your work by going to (menu <font color='green'>File</font>-><font color='green'>Save and Checkpoint</font>)"
   ]
  },
  {
   "cell_type": "markdown",
   "metadata": {
    "editable": false,
    "slideshow": {
     "slide_type": "slide"
    }
   },
   "source": [
    "## Submit your notebook\n",
    "\n",
    "After saving, restarting the kernel, and verifying your report,\n",
    "you can submit your notebook.\n",
    "Go to https://comp421.cs.unc.edu/notebook\n",
    "\n",
    "\n",
    "Note that if you actually saved your work you should not see the leaving site message below.\n",
    "If you do see the `Leave Site` warning, cancel and save your work again.\n",
    "<br />\n",
    "<img src=\"https://comp421.cs.unc.edu/static/images/leaveSite.png\" width=\"300\" style=\"float: left\" />"
   ]
  }
 ],
 "metadata": {
  "kernelspec": {
   "display_name": "Python 3",
   "language": "python",
   "name": "python3"
  },
  "language_info": {
   "codemirror_mode": {
    "name": "ipython",
    "version": 3
   },
   "file_extension": ".py",
   "mimetype": "text/x-python",
   "name": "python",
   "nbconvert_exporter": "python",
   "pygments_lexer": "ipython3",
   "version": "3.8.8"
  },
  "rise": {
   "enable_chalkboard": true,
   "scroll": true,
   "theme": "comp116"
  }
 },
 "nbformat": 4,
 "nbformat_minor": 1
}
