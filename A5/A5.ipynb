{
 "cells": [
  {
   "cell_type": "markdown",
   "metadata": {
    "editable": false,
    "slideshow": {
     "slide_type": "slide"
    }
   },
   "source": [
    "# Assignment 5\n",
    "\n",
    "<img src=\"https://comp421.cs.unc.edu/static/images/COMP421Logo.png\" \n",
    "     align=\"right\" style=\"display:inline; width:100px; \">\n",
    "\n",
    "In this assignment you will design a database and write functions to query it. I have provided data for 999 books from Tar Heel Reader. The books are provided in JSON format which is easy to read in Python. "
   ]
  },
  {
   "cell_type": "code",
   "execution_count": 1,
   "metadata": {
    "execution": {},
    "slideshow": {
     "slide_type": "slide"
    }
   },
   "outputs": [
    {
     "data": {
      "application/javascript": [
       "IPython.notebook.set_autosave_interval(15000)"
      ]
     },
     "metadata": {},
     "output_type": "display_data"
    },
    {
     "name": "stdout",
     "output_type": "stream",
     "text": [
      "Autosaving every 15 seconds\n"
     ]
    }
   ],
   "source": [
    "%autosave 15\n",
    "\n",
    "# setup\n",
    "import sqlite3\n",
    "import comp421\n",
    "\n",
    "check, report = comp421.start('A5')\n",
    "\n",
    "import json\n",
    "books = json.load(open('books.json', encoding='UTF-8'))"
   ]
  },
  {
   "cell_type": "markdown",
   "metadata": {
    "editable": false,
    "slideshow": {
     "slide_type": "slide"
    }
   },
   "source": [
    "Now the variable `books` is an array of dictionaries. A typical book looks like this:\n",
    "\n",
    "     {u'categories': [u'Animals and Nature'],\n",
    "     u'created': u'2015-04-02 07:57:35',\n",
    "     u'email': u'cwhitei0@miitbeian.gov.cn',\n",
    "     u'first_name': u'Christopher',\n",
    "     u'language': u'es',\n",
    "     u'last_name': u'White',\n",
    "     u'login': u'cwhitei0',\n",
    "     u'pages': [{u'height': 310,\n",
    "       u'caption': u'La rosa m\\xe1s hermosa',\n",
    "       u'url': u'/cache/images/48/3329876048_2b480e2243.jpg',\n",
    "       u'width': 500},\n",
    "      {u'height': 375,\n",
    "       u'caption': u'Aunque crezca en un desierto',\n",
    "       u'url': u'/cache/images/19/5886437819_01932b8f38.jpg',\n",
    "       u'width': 500},\n",
    "      {u'height': 500,\n",
    "       u'caption': u'siempre tiene donde estar',\n",
    "       u'url': u'/cache/images/17/5886448317_fcbf6c7d4d.jpg',\n",
    "       u'width': 375}],\n",
    "     u'title': u'La rosa'}\n",
    " \n",
    "`categories` is a list of strings each indicating a library-like classification for the book. The list may be empty. Assume that additional categories may be created in the future.\n",
    "\n",
    "`email`, `first_name`, `last_name`, and `login` relate to the author of the book. Of course, one author may write many books and the information must remain consistent. `login` is unique for every author.\n",
    "\n",
    "`language` is the two-letter code for the language of the book. \n",
    "\n",
    "`title` is, of course, the title of the book and certainly not unique.\n",
    "\n",
    "`pages` is an array. For each page of the book we have several fields. `caption` is the caption or text for this page of the book. `url` is the URL for the picture and its dimensions are in `width` and `height`. The dimensions of a particular image are always the same. There is significant reuse of pictures across books. The `url` for a picture sometimes changes and must be changed across all instances.\n",
    "\n",
    "## Your mission\n",
    "\n",
    "Your mission is to design a database in BCNF, write code to load it from the `books` array, and code to query it in various ways as described below.\n",
    "\n",
    "Imagine you are implemeting the database part of the backend for Tar Heel Reader."
   ]
  },
  {
   "cell_type": "code",
   "execution_count": 2,
   "metadata": {
    "editable": false,
    "execution": {},
    "slideshow": {
     "slide_type": "slide"
    }
   },
   "outputs": [],
   "source": [
    "# I'll create an in-memory database for you. Do all your work in here\n",
    "db = sqlite3.Connection(':memory:')\n",
    "cursor = db.cursor()"
   ]
  },
  {
   "cell_type": "markdown",
   "metadata": {
    "editable": false,
    "slideshow": {
     "slide_type": "slide"
    }
   },
   "source": [
    "## 1. Design the Database\n",
    "\n",
    "Create a set of tables with schemas that are in Boyce-Codd Normal Form (_the values are determined by the key, the whole key, and nothing but the key_) or as close to it as you can reasonably get. Use the same names for attributes as in the JSON format data. Give any new attributes you create reasonably descriptive names.\n",
    "\n",
    "I'm going to assume below that you can find a given book by a unique integer id that you (or the DB) will assign."
   ]
  },
  {
   "cell_type": "code",
   "execution_count": 3,
   "metadata": {
    "execution": {},
    "slideshow": {
     "slide_type": "slide"
    }
   },
   "outputs": [
    {
     "data": {
      "text/plain": [
       "<sqlite3.Cursor at 0x7fd3e94acab0>"
      ]
     },
     "execution_count": 3,
     "metadata": {},
     "output_type": "execute_result"
    }
   ],
   "source": [
    "# Write code here to create the tables\n",
    "# use the db variable from above\n",
    "\n",
    "cursor.execute('DROP TABLE IF EXISTS authors')\n",
    "cursor.execute('DROP TABLE IF EXISTS books')\n",
    "cursor.execute('DROP TABLE IF EXISTS pages')\n",
    "cursor.execute('DROP TABLE IF EXISTS categories')\n",
    "cursor.execute('DROP TABLE IF EXISTS images')\n",
    "\n",
    "cursor.execute(\"\"\"CREATE TABLE Authors(login TEXT PRIMARY KEY, email TEXT, first_name TEXT, last_name TEXT)\"\"\")\n",
    "cursor.execute(\"\"\"CREATE TABLE Books(id INTEGER PRIMARY KEY AUTOINCREMENT, title TEXT, language TEXT, created DATE, author TEXT REFERENCES Authors(login))\"\"\")\n",
    "cursor.execute(\"\"\"CREATE TABLE Categories(category TEXT, book INTEGER REFERENCES Books(id), UNIQUE (book,category))\"\"\")\n",
    "cursor.execute(\"\"\"CREATE TABLE Pages(caption TEXT, photo INTEGER REFERENCES Photos(id), book INTEGER REFERENCES Books(id), number INTEGER, PRIMARY KEY (book, number))\"\"\")\n",
    "cursor.execute(\"\"\"CREATE TABLE Photos(id INTEGER PRIMARY KEY AUTOINCREMENT, width INTEGER, height INTEGER, url TEXT UNIQUE)\"\"\")\n",
    "\n"
   ]
  },
  {
   "cell_type": "code",
   "execution_count": 4,
   "metadata": {
    "editable": false,
    "execution": {},
    "slideshow": {
     "slide_type": "slide"
    }
   },
   "outputs": [
    {
     "name": "stdout",
     "output_type": "stream",
     "text": [
      "There are 5 tables in the database.\n",
      "Part 1 table count appears correct\n"
     ]
    }
   ],
   "source": [
    "# You cannot and should not update this cell\n",
    "cursor.execute('''\n",
    "               SELECT COUNT(*)\n",
    "               FROM sqlite_master\n",
    "               WHERE type='table' AND\n",
    "                     name NOT LIKE 'sqlite_%' ''')\n",
    "table_count = cursor.fetchone()[0]\n",
    "print(f'There are {table_count} tables in the database.')\n",
    "check('Part 1 table count', table_count, points=5)"
   ]
  },
  {
   "cell_type": "markdown",
   "metadata": {
    "editable": false,
    "slideshow": {
     "slide_type": "slide"
    }
   },
   "source": [
    "## 2. Load the data into your database. \n",
    "\n",
    "You should not need additional datastructures besides the db itself to accomplish this. "
   ]
  },
  {
   "cell_type": "code",
   "execution_count": 5,
   "metadata": {
    "execution": {},
    "slideshow": {
     "slide_type": "slide"
    }
   },
   "outputs": [],
   "source": [
    "# Write your code here, use the same db as above\n",
    "# the source data is already in the variable books\n",
    "# you'll, of course, need to iterate over it.\n",
    "authors_insert = '''INSERT INTO Authors(login, first_name, last_name, email) VALUES(?,?,?,?)'''\n",
    "books_insert = '''INSERT INTO Books(title, language, created, author) VALUES(?,?,?,?)'''\n",
    "photos_insert = '''INSERT INTO Photos(width, height, url) VALUES(?,?,?)'''\n",
    "pages_insert = '''INSERT INTO Pages(caption, photo, book, number) VALUES(?,?,?,?)'''\n",
    "categories_insert = '''INSERT INTO Categories(category, book) VALUES(?,?)'''\n",
    "\n",
    "for b in books:\n",
    "    check_unique_login = cursor.execute('''SELECT A.login FROM Authors A WHERE A.login = ?''', (b['login'],)).fetchone()\n",
    "    \n",
    "    if check_unique_login is None:\n",
    "        cursor.execute(authors_insert,(b['login'], b['first_name'], b['last_name'], b['email']))\n",
    "    \n",
    "    cursor.execute(books_insert, (b['title'], b['language'], b['created'], b['login']))\n",
    "    book_id = cursor.lastrowid\n",
    "    \n",
    "    for category in b['categories']:\n",
    "        cursor.execute(categories_insert,(category, book_id))\n",
    "    \n",
    "    page_num = 0\n",
    "    \n",
    "    for p in b['pages']:\n",
    "        check_unique_url = cursor.execute(''' SELECT P.url FROM Photos P WHERE P.url = ?''', (p['url'],)).fetchone()\n",
    "        if check_unique_url is None:\n",
    "            cursor.execute(photos_insert, (p['width'], p['height'], p['url']))\n",
    "            photo_id = cursor.lastrowid\n",
    "        else:\n",
    "            photo_id = cursor.execute('''SELECT P.id FROM Photos P WHERE P.url = ?''', (p['url'],)).fetchone()[0]\n",
    "        cursor.execute(pages_insert, (p['caption'], photo_id,book_id,page_num))\n",
    "        page_num+=1"
   ]
  },
  {
   "cell_type": "markdown",
   "metadata": {
    "editable": false,
    "slideshow": {
     "slide_type": "slide"
    }
   },
   "source": [
    "### Verify your tables\n",
    "\n",
    "I'm going to include some code below to help you verify the sizes of your tables. I _think_ that if you've factored and loaded them up as expected they should have the same number of entries as mine."
   ]
  },
  {
   "cell_type": "markdown",
   "metadata": {
    "editable": false,
    "slideshow": {
     "slide_type": "slide"
    }
   },
   "source": [
    "How many entries are in the authors table?"
   ]
  },
  {
   "cell_type": "code",
   "execution_count": 6,
   "metadata": {
    "execution": {},
    "slideshow": {
     "slide_type": "slide"
    }
   },
   "outputs": [
    {
     "name": "stdout",
     "output_type": "stream",
     "text": [
      "There are 388 in the authors table\n"
     ]
    }
   ],
   "source": [
    "# a helper for the questions below\n",
    "def getTableSize(name):\n",
    "    return cursor.execute('''select count(*) from %s''' % name).fetchone()[0]\n",
    "\n",
    "# How many entries are in your authors table?\n",
    "NumberOfAuthors = getTableSize('Authors')\n",
    "print(f'There are {NumberOfAuthors} in the authors table')"
   ]
  },
  {
   "cell_type": "code",
   "execution_count": 7,
   "metadata": {
    "editable": false,
    "execution": {},
    "slideshow": {
     "slide_type": "slide"
    }
   },
   "outputs": [
    {
     "name": "stdout",
     "output_type": "stream",
     "text": [
      "Part 2 Number Of Authors appears correct\n"
     ]
    }
   ],
   "source": [
    "# You cannot and should not update this cell\n",
    "check(\"Part 2 Number Of Authors\", NumberOfAuthors, points=5)"
   ]
  },
  {
   "cell_type": "markdown",
   "metadata": {
    "editable": false,
    "slideshow": {
     "slide_type": "slide"
    }
   },
   "source": [
    "How many entries are in the photos table?"
   ]
  },
  {
   "cell_type": "code",
   "execution_count": 8,
   "metadata": {
    "execution": {},
    "slideshow": {
     "slide_type": "slide"
    }
   },
   "outputs": [
    {
     "name": "stdout",
     "output_type": "stream",
     "text": [
      "There are 9943 in the photos table\n"
     ]
    }
   ],
   "source": [
    "# How many images are in your table?\n",
    "NumberOfImages = getTableSize('Photos')\n",
    "print(f'There are {NumberOfImages} in the photos table')"
   ]
  },
  {
   "cell_type": "code",
   "execution_count": 9,
   "metadata": {
    "editable": false,
    "execution": {},
    "slideshow": {
     "slide_type": "slide"
    }
   },
   "outputs": [
    {
     "name": "stdout",
     "output_type": "stream",
     "text": [
      "Part 2 Number Of Images appears correct\n"
     ]
    }
   ],
   "source": [
    "# You cannot and should not update this cell\n",
    "check(\"Part 2 Number Of Images\", NumberOfImages, points=5)"
   ]
  },
  {
   "cell_type": "markdown",
   "metadata": {
    "editable": false,
    "slideshow": {
     "slide_type": "slide"
    }
   },
   "source": [
    "How many entries are in the pages table?"
   ]
  },
  {
   "cell_type": "code",
   "execution_count": 10,
   "metadata": {
    "execution": {},
    "slideshow": {
     "slide_type": "slide"
    }
   },
   "outputs": [
    {
     "name": "stdout",
     "output_type": "stream",
     "text": [
      "There are 11420 in the pages table.\n"
     ]
    }
   ],
   "source": [
    "# How many pages?\n",
    "NumberOfPages = getTableSize('Pages')\n",
    "print(f'There are {NumberOfPages} in the pages table.')"
   ]
  },
  {
   "cell_type": "code",
   "execution_count": 11,
   "metadata": {
    "editable": false,
    "execution": {},
    "slideshow": {
     "slide_type": "slide"
    }
   },
   "outputs": [
    {
     "name": "stdout",
     "output_type": "stream",
     "text": [
      "Part 2 Number of Pages appears correct\n"
     ]
    }
   ],
   "source": [
    "# You cannot and should not update this cell\n",
    "check(\"Part 2 Number of Pages\", NumberOfPages, points=5)"
   ]
  },
  {
   "cell_type": "markdown",
   "metadata": {
    "editable": false,
    "slideshow": {
     "slide_type": "slide"
    }
   },
   "source": [
    "## 3. List the categories with the number of books in each for a given language.\n",
    "\n",
    "A visitor to Tar Heel Reader might want to see how many books in their native language are available in each category.\n",
    "\n",
    "Fill in the body of the function so that it uses a single query to produce a list of tuples with the category first and the number of books in that category second. Sort by category in ascending order.\n",
    "\n",
    "For my table design I was able to do this with a single SQL statement. \n",
    "\n",
    "Always use the ? parameter substitution form to avoid SQL injection attacks."
   ]
  },
  {
   "cell_type": "code",
   "execution_count": 12,
   "metadata": {
    "execution": {},
    "slideshow": {
     "slide_type": "slide"
    }
   },
   "outputs": [
    {
     "name": "stdout",
     "output_type": "stream",
     "text": [
      "There are [('Alphabet', 64), ('Animals and Nature', 257), ('Art and Music', 41), ('Biographies', 28), ('Fairy and Folk Tales', 24), ('Fiction', 187), ('Foods', 58), ('Health', 22), ('History', 43), ('Holidays', 55), ('Math and Science', 80), ('Nursery Rhymes', 2), ('People and Places', 243), ('Poetry', 25), ('Recreation and Leisure', 111), ('Sports', 48)] books written in English\n"
     ]
    }
   ],
   "source": [
    "def listCategoryCounts(language):\n",
    "    #Write your code here\n",
    "    cursor.execute(\"\"\"SELECT c.category, count(distinct b.id) FROM categories c, books b WHERE c.book = b.id AND b.language = ? GROUP BY c.category ORDER BY c.category ASC\"\"\", [language])\n",
    "    \n",
    "    return cursor.fetchall()\n",
    "\n",
    "r = listCategoryCounts('en')\n",
    "print(f'There are {r} books written in English')"
   ]
  },
  {
   "cell_type": "code",
   "execution_count": 13,
   "metadata": {
    "editable": false,
    "execution": {},
    "slideshow": {
     "slide_type": "slide"
    }
   },
   "outputs": [
    {
     "name": "stdout",
     "output_type": "stream",
     "text": [
      "Part 3 appears correct\n"
     ]
    }
   ],
   "source": [
    "# You cannot and should not update this cell\n",
    "check('Part 3', r, points=20)"
   ]
  },
  {
   "cell_type": "markdown",
   "metadata": {
    "editable": false,
    "slideshow": {
     "slide_type": "slide"
    }
   },
   "source": [
    "## 4. List the books in a category.\n",
    "\n",
    "The next step for our visitor is to select a category and browse the available books. We don't want to send __all__ the books, that would take too long, so we will send only 12 books (a chunk) at a time.\n",
    "\n",
    "Fill in the body of the function below so that it returns a list of tuples with the book's unique id, title, author's last name, page count, and the URL of the picture on the first page of the book. The frontend will use this information to construct a grid of book previews with a link to read each book.The books should be ordered with the most recently created books first.\n",
    "\n",
    "You should do this with a single query.\n",
    "\n",
    "Your result should look like this:\n",
    "\n",
    "     [(986,\n",
    "     'Farm Animals',\n",
    "     'Reynolds',\n",
    "      8,\n",
    "      '/cache/images/89/291005289_a05ae73053.jpg'),\n",
    "     ...\n",
    "    ]\n",
    "\n",
    "**This is wrong** \n",
    "\n",
    "    [(u'Farm Animals',\n",
    "      u'Murphy', \n",
    "      980, \n",
    "      8, \n",
    "      u'/cache/images/89/291005289_a05ae73053.jpg'),\n",
    "     ...\n",
    "    ]\n"
   ]
  },
  {
   "cell_type": "code",
   "execution_count": 14,
   "metadata": {
    "execution": {},
    "slideshow": {
     "slide_type": "slide"
    }
   },
   "outputs": [
    {
     "name": "stdout",
     "output_type": "stream",
     "text": [
      "Here are the first 12 books in a chunk:\n",
      " Id=999 Title=Seaside Aquarium                    Last=Simpson   Count=  8\n",
      "    URL=/cache/images/21/122430121_a653d2f8ab.jpg\n",
      " Id=998 Title=The Funny Crab                      Last=Bennett   Count=  5\n",
      "    URL=/cache/images/49/5638860949_d89877e19d.jpg\n",
      " Id=994 Title=Polar Bears                         Last=Rogers    Count= 10\n",
      "    URL=/cache/images/70/3582475670_df8e8e8974.jpg\n",
      " Id=993 Title=Horse                               Last=Rice      Count=  6\n",
      "    URL=/cache/images/79/57632579_c7482974fe.jpg\n",
      " Id=990 Title=The Mouse                           Last=Kelly     Count= 13\n",
      "    URL=/cache/images/39/8093539_473996654f.jpg\n",
      " Id=936 Title=Cats                                Last=Patterson Count=  8\n",
      "    URL=/cache/images/70/5110834170_0797f39278.jpg\n",
      " Id=987 Title=The Tired Lion                      Last=Bennett   Count=  4\n",
      "    URL=/cache/images/57/5657669257_d4be2a3f98.jpg\n",
      " Id=977 Title=My book on how to help the Earth.   Last=Harper    Count=  8\n",
      "    URL=/cache/images/48/2435883148_0eba86944f.jpg\n",
      " Id=976 Title=Help the Earth                      Last=Harper    Count=  7\n",
      "    URL=/cache/images/77/3717759677_4a520a1dbb.jpg\n",
      " Id=975 Title=My book about how to save the Earth Last=Harper    Count=  8\n",
      "    URL=/cache/images/77/3717759677_4a520a1dbb.jpg\n",
      " Id=986 Title=Farm Animals                        Last=Reynolds  Count=  8\n",
      "    URL=/cache/images/89/291005289_a05ae73053.jpg\n",
      " Id=982 Title=Sharp's Survival Chance             Last=Bennett   Count=  5\n",
      "    URL=/cache/images/09/14539630909_c269d1423e.jpg\n"
     ]
    }
   ],
   "source": [
    "def listBooks(language, category, chunk):\n",
    "    # language is the 2-letter language code\n",
    "    # category is a category name\n",
    "    # chunk is an integer. 0 means the first 12 books, 1 means the next 12, etc.\n",
    "    # write your code here\n",
    "    cursor.execute(\"\"\"SELECT B.id, B.title, A.last_name, count(P.number), I.url FROM Books B, Authors A, Pages P, Photos I, Categories C WHERE B.language=? and C.category=? and C.book=B.id and P.book=B.id and P.photo=I.id and B.author=A.login GROUP BY B.id ORDER BY B.created DESC LIMIT(?*12),12\"\"\", (language, category, chunk))\n",
    "    \n",
    "    return cursor.fetchall()\n",
    "\n",
    "r1 = listBooks('en', 'Animals and Nature', 0)\n",
    "print(f'Here are the first {len(r1)} books in a chunk:')\n",
    "max_len_titles = max([(len(r1[i][1])) for i in range(len(r1))])\n",
    "max_len_lname = max([(len(r1[i][2])) for i in range(len(r1))])\n",
    "for r in r1:\n",
    "    print(f' Id={r[0]:3} Title={r[1]:{max_len_titles}}',\n",
    "          f'Last={r[2]:{max_len_lname}} Count={r[3]:3}\\n',\n",
    "          f'   URL={r[4]}')\n",
    "\n",
    "r2 = listBooks('en', 'Animals and Nature', 1)"
   ]
  },
  {
   "cell_type": "code",
   "execution_count": 15,
   "metadata": {
    "editable": false,
    "execution": {},
    "slideshow": {
     "slide_type": "slide"
    }
   },
   "outputs": [
    {
     "name": "stdout",
     "output_type": "stream",
     "text": [
      "Part 4 page 1 appears correct\n",
      "Part 4 page 2 appears correct\n",
      "The id of the last book, 923, will be used in the next question\n"
     ]
    }
   ],
   "source": [
    "# You cannot and should not update this cell\n",
    "\n",
    "# I'm stripping off the ID before testing\n",
    "check('Part 4 page 1', [r[1:] for r in r1], points=10)\n",
    "check('Part 4 page 2', [r[1:] for r in r2], points=10)\n",
    "\n",
    "# Set variable toRead as the id of last book on the second page\n",
    "toRead = r2[-1][0]\n",
    "print(f'The id of the last book, {toRead},'\n",
    "      ' will be used in the next question')"
   ]
  },
  {
   "cell_type": "markdown",
   "metadata": {
    "editable": false,
    "slideshow": {
     "slide_type": "slide"
    }
   },
   "source": [
    "## 5. Fetch a single book\n",
    "\n",
    "Now that our vistor has clicked on a book, we want to fetch all of its content so the Javascript in the browser can render it without further reference to the server. We want to produce a result formatted like the ones we read in earlier so create a Python dictionary and assign values to keys with the same names. Exclude the `id` from the result to make testing easier. Finally return a JSON encoded string, I've included that code for you inside the function. \n",
    "\n",
    "I can't see any way to do this step with only one query. I got it down to three. That isn't so bad because after this step our visitor will be happily reading a book without bothering us again for a while.\n",
    "\n",
    "Fill in the body of the function below so that it produces a JSON encoded string that looks like one of the entries in your original books array. Do __not__ simply return an item from that array, you __must__ reconstruct the book from the data in your database."
   ]
  },
  {
   "cell_type": "code",
   "execution_count": 16,
   "metadata": {
    "execution": {},
    "slideshow": {
     "slide_type": "slide"
    }
   },
   "outputs": [
    {
     "name": "stdout",
     "output_type": "stream",
     "text": [
      "{\"categories\": [\"Animals and Nature\"], \"created\": \"2015-03-13 11:49:30\", \"email\": \"eleeim@bloomberg.com\", \"first_name\": \"Ernest\", \"language\": \"en\", \"last_name\": \"Lee\", \"login\": \"eleeim\", \"pages\": [{\"caption\": \"Sea turtles belong to the same family as land turtles.\", \"height\": 333, \"url\": \"/cache/images/14/2341383314_5347b601a7.jpg\", \"width\": 500}, {\"caption\": \"Sea turtles' front legs look like flippers. They steer with their back legs.\", \"height\": 375, \"url\": \"/cache/images/03/10449014403_c8d853c373.jpg\", \"width\": 500}, {\"caption\": \"Sea Turtles are cold blooded.\", \"height\": 375, \"url\": \"/cache/images/88/3706977488_08208d18db.jpg\", \"width\": 500}, {\"caption\": \"Sea Turtles eat plants and can go for a year without eating.\", \"height\": 375, \"url\": \"/cache/images/05/4018269705_b8f4c692ee.jpg\", \"width\": 500}, {\"caption\": \"Sea Turtles need to breathe air to live.\", \"height\": 375, \"url\": \"/cache/images/16/5787913916_6b7af6eba2.jpg\", \"width\": 500}, {\"caption\": \"Sea Turtles can hold their breath for 5 hours!\", \"height\": 500, \"url\": \"/cache/images/30/7678962530_9795eb4f3a.jpg\", \"width\": 375}, {\"caption\": \"Turtles are relatives of dinosaurs. The oldest turtles are called Archelon.\", \"height\": 333, \"url\": \"/cache/images/28/6215133128_0a044c7442.jpg\", \"width\": 500}, {\"caption\": \"The Leatherback is the largest sea turtle. It is about 8 feet long and weighs about 2000 pounds.\", \"height\": 375, \"url\": \"/cache/images/63/10449020063_6c6fbd44f0.jpg\", \"width\": 500}, {\"caption\": \"Turtles talk to each other by grunting and moving.\", \"height\": 375, \"url\": \"/cache/images/11/2564599711_0d98d79cc9.jpg\", \"width\": 500}, {\"caption\": \"Turtles lay their eggs in the sand.\", \"height\": 333, \"url\": \"/cache/images/25/15427399125_95c2ab6196.jpg\", \"width\": 500}], \"title\": \"Sea Turtles\"}\n"
     ]
    }
   ],
   "source": [
    "def fetchBook(id):\n",
    "    book = {} # fill in the values here\n",
    "    temp=cursor.execute('''SELECT category FROM Categories WHERE Categories.book=?''', (id,)).fetchall()\n",
    "    book[\"categories\"] = temp[0]\n",
    "    \n",
    "    temp=cursor.execute('''SELECT created,language, title FROM Books WHERE Books.id=?''', (id,)).fetchall()\n",
    "    book[\"created\"] = temp[0][0]\n",
    "    book[\"language\"] = temp[0][1]\n",
    "    book[\"title\"] = temp[0][2]\n",
    "    \n",
    "    temp= cursor.execute('''SELECT email, first_name, last_name, login FROM Authors, Books WHERE Books.id=? and Books.author=Authors.login''', (id,)).fetchall()\n",
    "    book[\"email\"] = temp[0][0]\n",
    "    book[\"first_name\"] = temp[0][1]\n",
    "    book[\"last_name\"] = temp[0][2]\n",
    "    book[\"login\"] = temp[0][3]\n",
    "    \n",
    "    temp = cursor.execute('''SELECT caption, height, url, width FROM Pages, Photos WHERE Pages.book=? and Pages.photo=Photos.id''', (id,)).fetchall()\n",
    "    \n",
    "    pages=[]\n",
    "    for page in temp:\n",
    "        d={}\n",
    "        d[\"caption\"] = page[0]\n",
    "        d[\"height\"] = page[1]\n",
    "        d[\"url\"] = page[2]\n",
    "        d[\"width\"] = page[3]\n",
    "        pages.append(d)\n",
    "    book[\"pages\"]=pages\n",
    "    \n",
    "    return json.dumps(book, sort_keys=True)\n",
    "    \n",
    "b = fetchBook(toRead)\n",
    "print(b)"
   ]
  },
  {
   "cell_type": "code",
   "execution_count": 17,
   "metadata": {
    "editable": false,
    "execution": {},
    "slideshow": {
     "slide_type": "slide"
    }
   },
   "outputs": [
    {
     "name": "stdout",
     "output_type": "stream",
     "text": [
      "Part 5 appears correct\n"
     ]
    }
   ],
   "source": [
    "# You cannot and should not update this cell\n",
    "check('Part 5', b, points=30)"
   ]
  },
  {
   "cell_type": "markdown",
   "metadata": {
    "editable": false,
    "slideshow": {
     "slide_type": "slide"
    }
   },
   "source": [
    "## 6. List the books by an author.\n",
    "\n",
    "The authors at our site like to see a list of the books they have written. Fill in the code below to return a list of the books in the same format as listBooks above in part 4."
   ]
  },
  {
   "cell_type": "code",
   "execution_count": 18,
   "metadata": {
    "execution": {},
    "slideshow": {
     "slide_type": "slide"
    }
   },
   "outputs": [
    {
     "name": "stdout",
     "output_type": "stream",
     "text": [
      "[(1, 'PLURALS: cuniculus ursum amat.', 'Hansen', 8, '/cache/images/06/357393306_bb325a5c92.jpg'), (3, 'Plurals: cuniculus et amicus', 'Hansen', 8, '/cache/images/67/219674667_b3aeb1528e.jpg'), (2, 'Plurals: Canes, nomine Montius et Daisia', 'Hansen', 9, '/uploads/2009/07/annapmagistra-1246609542.jpg'), (15, 'Cuniculus versipellem salutat', 'Hansen', 14, '/cache/images/39/3178513639_d71ae707ab.jpg')]\n"
     ]
    }
   ],
   "source": [
    "def listAuthor(login):\n",
    "    # login is the unique login for an author\n",
    "    cursor.execute(\"\"\"SELECT B.id, B.title, A.last_name, count(DISTINCT P.number), I.url FROM Categories C, Books B, Authors A, Pages P, Photos I WHERE C.book=B.id and P.book=B.id and P.photo = I.id and B.author=A.login and A.login=? GROUP BY B.id ORDER BY B.created DESC\"\"\", (login,))\n",
    "    return cursor.fetchall()\n",
    "\n",
    "r1 = listAuthor('jhansenrr')\n",
    "print(r1)"
   ]
  },
  {
   "cell_type": "code",
   "execution_count": 19,
   "metadata": {
    "editable": false,
    "execution": {},
    "slideshow": {
     "slide_type": "slide"
    }
   },
   "outputs": [
    {
     "name": "stdout",
     "output_type": "stream",
     "text": [
      "Part 6 appears correct\n"
     ]
    }
   ],
   "source": [
    "# You cannot and should not update this cell\n",
    "\n",
    "# I'm stripping off the ID before testing\n",
    "check('Part 6', [ r[1:] for r in r1 ], points=15)"
   ]
  },
  {
   "cell_type": "code",
   "execution_count": 20,
   "metadata": {
    "execution": {},
    "slideshow": {
     "slide_type": "slide"
    }
   },
   "outputs": [],
   "source": [
    "# Enter your onyen and your collaborators\n",
    "onyen = 'henryha'\n",
    "Collaborators = ['haydend']"
   ]
  },
  {
   "cell_type": "code",
   "execution_count": 21,
   "metadata": {
    "deletable": false,
    "editable": false,
    "execution": {},
    "slideshow": {
     "slide_type": "slide"
    }
   },
   "outputs": [
    {
     "name": "stdout",
     "output_type": "stream",
     "text": [
      "  Collaborators: ['haydend']\n",
      "Report for henryha\n",
      "  9 of 9 appear correct, 105 of 105 points\n"
     ]
    }
   ],
   "source": [
    "# You cannot and should not update this cell\n",
    "# This cell will produce a summary report of your assignment\n",
    "assert onyen != 'youronyen'\n",
    "assert Collaborators != ['list', 'their', 'onyens', 'here']\n",
    "report(onyen, Collaborators)"
   ]
  },
  {
   "cell_type": "markdown",
   "metadata": {
    "editable": false,
    "slideshow": {
     "slide_type": "slide"
    }
   },
   "source": [
    "## Done!\n",
    "<img src=\"https://comp421.cs.unc.edu/static/images/restartAndClearOutput.png\" width=\"300\" style=\"float: right\" />\n",
    "\n",
    "Now go back, restart the kernel (menu <font color=\"green\">Kernel</font>-><font color=\"green\">Restart and Clear</font>), and then Shift-Enter your way through the notebook to run all the cells again so you an be sure all your code will work as you expect during grading."
   ]
  },
  {
   "cell_type": "markdown",
   "metadata": {
    "editable": false,
    "slideshow": {
     "slide_type": "slide"
    }
   },
   "source": [
    "## Saving your work\n",
    "<img src=\"https://comp421.cs.unc.edu/static/images/saveAndCheckpoint.png\" width=\"300\" style=\"float: right\" />\n",
    "\n",
    "Now save your work by going to (menu <font color='green'>File</font>-><font color='green'>Save and Checkpoint</font>)"
   ]
  },
  {
   "cell_type": "markdown",
   "metadata": {
    "editable": false,
    "slideshow": {
     "slide_type": "slide"
    }
   },
   "source": [
    "## Submit your notebook\n",
    "\n",
    "After saving, restarting the kernel, and verifying your report,\n",
    "you can submit your notebook.\n",
    "Go to https://comp421.cs.unc.edu/notebook\n",
    "\n",
    "\n",
    "Note that if you actually saved your work you should not see the leaving site message below.\n",
    "If you do see the `Leave Site` warning, cancel and save your work again.\n",
    "<br />\n",
    "<img src=\"https://comp421.cs.unc.edu/static/images/leaveSite.png\" width=\"300\" style=\"float: left\" />"
   ]
  }
 ],
 "metadata": {
  "kernelspec": {
   "display_name": "Python 3",
   "language": "python",
   "name": "python3"
  },
  "language_info": {
   "codemirror_mode": {
    "name": "ipython",
    "version": 3
   },
   "file_extension": ".py",
   "mimetype": "text/x-python",
   "name": "python",
   "nbconvert_exporter": "python",
   "pygments_lexer": "ipython3",
   "version": "3.8.8"
  },
  "rise": {
   "enable_chalkboard": true,
   "scroll": true,
   "theme": "comp116"
  }
 },
 "nbformat": 4,
 "nbformat_minor": 2
}
