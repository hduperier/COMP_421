{
 "cells": [
  {
   "cell_type": "markdown",
   "metadata": {
    "editable": false,
    "slideshow": {
     "slide_type": "slide"
    }
   },
   "source": [
    "# Assignment 4\n",
    "\n",
    "<img src=\"https://comp421.cs.unc.edu/static/images/COMP421Logo.png\" \n",
    "     align=\"right\" style=\"display:inline; width:100px; \">\n",
    "\n",
    "This homework will require a lot of math calculations.\n",
    "Therefore, I've imported the python module `math` for you.\n",
    "In some of your calculations, you may want to use functions like `math.ceil` or `math.floor`.\n",
    "\n",
    "It is assumed you know how to do Python integer division, float division, etc.\n",
    "\n",
    "Note also that there is an import of A4vars.\n",
    "This file of constants for things like Cblock will be different in the grader than in your homework copy.\n",
    "So when a calculation says assume Cblock is $\\dots$, you should never use the value 8192 but instead use the variable Cblock.\n",
    "\n",
    "**Please, Please, Please** read the instructions at the end of the assignment!\n",
    "You should kernel-restart and run all cells before you submit your work.\n"
   ]
  },
  {
   "cell_type": "code",
   "execution_count": 1,
   "metadata": {
    "editable": false,
    "execution": {
     "iopub.execute_input": "2022-10-13T01:24:48.764027Z",
     "iopub.status.busy": "2022-10-13T01:24:48.763625Z",
     "iopub.status.idle": "2022-10-13T01:24:48.782459Z",
     "shell.execute_reply": "2022-10-13T01:24:48.781854Z"
    },
    "slideshow": {
     "slide_type": "slide"
    }
   },
   "outputs": [
    {
     "data": {
      "application/javascript": [
       "IPython.notebook.set_autosave_interval(15000)"
      ]
     },
     "metadata": {},
     "output_type": "display_data"
    },
    {
     "name": "stdout",
     "output_type": "stream",
     "text": [
      "Autosaving every 15 seconds\n"
     ]
    }
   ],
   "source": [
    "%autosave 15\n",
    "\n",
    "# setup\n",
    "import sqlite3\n",
    "import comp421\n",
    "import json\n",
    "import math\n",
    "\n",
    "check, report = comp421.start('A4')\n",
    "\n",
    "# these are the variables you will use below. You must use the variables because\n",
    "# they will have different values when I grade your assignment.\n",
    "from A4vars import *"
   ]
  },
  {
   "cell_type": "code",
   "execution_count": 2,
   "metadata": {
    "execution": {
     "iopub.execute_input": "2022-10-13T01:24:48.817955Z",
     "iopub.status.busy": "2022-10-13T01:24:48.817413Z",
     "iopub.status.idle": "2022-10-13T01:24:48.821531Z",
     "shell.execute_reply": "2022-10-13T01:24:48.820885Z"
    },
    "slideshow": {
     "slide_type": "slide"
    }
   },
   "outputs": [],
   "source": [
    "# fill in your info here\n",
    "Author = \"henryha\"\n",
    "Collaborators = []"
   ]
  },
  {
   "cell_type": "code",
   "execution_count": 3,
   "metadata": {
    "editable": false,
    "execution": {
     "iopub.execute_input": "2022-10-13T01:24:48.825153Z",
     "iopub.status.busy": "2022-10-13T01:24:48.824688Z",
     "iopub.status.idle": "2022-10-13T01:24:48.830160Z",
     "shell.execute_reply": "2022-10-13T01:24:48.829607Z"
    },
    "slideshow": {
     "slide_type": "slide"
    }
   },
   "outputs": [
    {
     "name": "stdout",
     "output_type": "stream",
     "text": [
      "Author appears correct\n",
      "Collaborators appears correct\n"
     ]
    }
   ],
   "source": [
    "# You cannot and should not update this cell\n",
    "check('Author', Author != 'youronyen', points=1, sort=True)\n",
    "check('Collaborators', Collaborators != ['list', 'their', 'onyens', 'here'], points=1, sort=True)"
   ]
  },
  {
   "cell_type": "markdown",
   "metadata": {
    "editable": false,
    "slideshow": {
     "slide_type": "slide"
    }
   },
   "source": [
    "## Part 1\n",
    "\n",
    "Suppose you have a roster from a census return with $N$ entries in alphabetical order by first name. Each page has $P$ entries where $P < N$.\n",
    "\n",
    "__1.__ What is the lower bound $B_l$ and the upper bound $B_u$ on the number of pages that must be examined to find a given first name using a binary search? Assume that having computed a page number, you can open directly to that page."
   ]
  },
  {
   "cell_type": "code",
   "execution_count": 4,
   "metadata": {
    "execution": {
     "iopub.execute_input": "2022-10-13T01:24:48.833315Z",
     "iopub.status.busy": "2022-10-13T01:24:48.832857Z",
     "iopub.status.idle": "2022-10-13T01:24:48.837885Z",
     "shell.execute_reply": "2022-10-13T01:24:48.837326Z"
    },
    "slideshow": {
     "slide_type": "slide"
    }
   },
   "outputs": [
    {
     "name": "stdout",
     "output_type": "stream",
     "text": [
      "The lower bound is 1\n",
      "The upper bound is 10\n"
     ]
    }
   ],
   "source": [
    "# using variables N and P compute your answers and leave them in variables\n",
    "# Bl and Bu\n",
    "Bl = math.floor(P/P)\n",
    "Bu = int(math.floor(math.log2(N))/2)\n",
    "\n",
    "print(f'The lower bound is {Bl}')\n",
    "print(f'The upper bound is {Bu}')"
   ]
  },
  {
   "cell_type": "code",
   "execution_count": 5,
   "metadata": {
    "editable": false,
    "execution": {
     "iopub.execute_input": "2022-10-13T01:24:48.840868Z",
     "iopub.status.busy": "2022-10-13T01:24:48.840360Z",
     "iopub.status.idle": "2022-10-13T01:24:48.845550Z",
     "shell.execute_reply": "2022-10-13T01:24:48.844806Z"
    },
    "slideshow": {
     "slide_type": "slide"
    }
   },
   "outputs": [
    {
     "name": "stdout",
     "output_type": "stream",
     "text": [
      "Bl appears correct\n",
      "Bu appears correct\n"
     ]
    }
   ],
   "source": [
    "# You cannot and should not update the following lines\n",
    "check('Bl', Bl, points=2.5)\n",
    "check('Bu', Bu, points=5)"
   ]
  },
  {
   "cell_type": "markdown",
   "metadata": {
    "editable": false,
    "slideshow": {
     "slide_type": "slide"
    }
   },
   "source": [
    "__2.__ Now suppose a 1-page table of contents is added to the roster. It lists the first \"first name\" on each of the other pages (Assume no first name has more than 1 page of entries). How many pages that must be examined to look up a given first name?"
   ]
  },
  {
   "cell_type": "code",
   "execution_count": 6,
   "metadata": {
    "execution": {
     "iopub.execute_input": "2022-10-13T01:24:48.848878Z",
     "iopub.status.busy": "2022-10-13T01:24:48.848244Z",
     "iopub.status.idle": "2022-10-13T01:24:48.853321Z",
     "shell.execute_reply": "2022-10-13T01:24:48.852592Z"
    },
    "slideshow": {
     "slide_type": "slide"
    }
   },
   "outputs": [
    {
     "name": "stdout",
     "output_type": "stream",
     "text": [
      "To look up a name using a table of content that lists the first name on each page, it will take 2 page reads find a given name.\n"
     ]
    }
   ],
   "source": [
    "# leave your answer in variable A2.\n",
    "A2 = int(math.log(N,P))\n",
    "\n",
    "print('To look up a name using a table of content that lists',\n",
    "      f'the first name on each page, it will take {A2} page reads',\n",
    "     'find a given name.')"
   ]
  },
  {
   "cell_type": "code",
   "execution_count": 7,
   "metadata": {
    "editable": false,
    "execution": {
     "iopub.execute_input": "2022-10-13T01:24:48.856426Z",
     "iopub.status.busy": "2022-10-13T01:24:48.856091Z",
     "iopub.status.idle": "2022-10-13T01:24:48.860251Z",
     "shell.execute_reply": "2022-10-13T01:24:48.859558Z"
    },
    "slideshow": {
     "slide_type": "slide"
    }
   },
   "outputs": [
    {
     "name": "stdout",
     "output_type": "stream",
     "text": [
      "A2 appears correct\n"
     ]
    }
   ],
   "source": [
    "# You cannot and should not update the following line\n",
    "check('A2', A2, points=5)"
   ]
  },
  {
   "cell_type": "markdown",
   "metadata": {
    "editable": false,
    "slideshow": {
     "slide_type": "slide"
    }
   },
   "source": [
    "__3.__ Now suppose that the roster is reorganized such that each page contains a list of names with the same initials. For example, 'Thomas Jam Andrew' falls on the same\n",
    "page as 'Travis Jam Anand' (both have initials 'TJA'). Assume that no pattern takes\n",
    "more than one page, and there are a total of $M$ pages. Finally, assume that given the pattern you can go directly to the page. How many pages must be checked to find a particular name?"
   ]
  },
  {
   "cell_type": "code",
   "execution_count": 8,
   "metadata": {
    "execution": {
     "iopub.execute_input": "2022-10-13T01:24:48.863231Z",
     "iopub.status.busy": "2022-10-13T01:24:48.862903Z",
     "iopub.status.idle": "2022-10-13T01:24:48.866984Z",
     "shell.execute_reply": "2022-10-13T01:24:48.866253Z"
    },
    "slideshow": {
     "slide_type": "slide"
    }
   },
   "outputs": [
    {
     "name": "stdout",
     "output_type": "stream",
     "text": [
      "1 page(s) must be checked to find a particular name\n"
     ]
    }
   ],
   "source": [
    "# compute your answer into A4\n",
    "A3 = 1\n",
    "print(f'{A3} page(s) must be checked to find a particular name')"
   ]
  },
  {
   "cell_type": "code",
   "execution_count": 9,
   "metadata": {
    "editable": false,
    "execution": {
     "iopub.execute_input": "2022-10-13T01:24:48.869868Z",
     "iopub.status.busy": "2022-10-13T01:24:48.869544Z",
     "iopub.status.idle": "2022-10-13T01:24:48.873765Z",
     "shell.execute_reply": "2022-10-13T01:24:48.873041Z"
    },
    "slideshow": {
     "slide_type": "slide"
    }
   },
   "outputs": [
    {
     "name": "stdout",
     "output_type": "stream",
     "text": [
      "A3 appears correct\n"
     ]
    }
   ],
   "source": [
    "# You cannot and should not update the following line\n",
    "check('A3', A3, points=2.5)"
   ]
  },
  {
   "cell_type": "markdown",
   "metadata": {
    "editable": false,
    "slideshow": {
     "slide_type": "slide"
    }
   },
   "source": [
    "__4.__ Using the same organization as question 3, assuming a page still has room for up to $P$ entries, what is the occupancy percentage of an average page in the new roster?"
   ]
  },
  {
   "cell_type": "code",
   "execution_count": 10,
   "metadata": {
    "execution": {
     "iopub.execute_input": "2022-10-13T01:24:48.876853Z",
     "iopub.status.busy": "2022-10-13T01:24:48.876520Z",
     "iopub.status.idle": "2022-10-13T01:24:48.880836Z",
     "shell.execute_reply": "2022-10-13T01:24:48.880096Z"
    },
    "slideshow": {
     "slide_type": "slide"
    }
   },
   "outputs": [
    {
     "name": "stdout",
     "output_type": "stream",
     "text": [
      "The occupancy percentage of an average page is 51.2\n"
     ]
    }
   ],
   "source": [
    "# compute your answer into A4\n",
    "A4 = N/(2*P)/10\n",
    "\n",
    "print(f'The occupancy percentage of an average page is {A4}')"
   ]
  },
  {
   "cell_type": "code",
   "execution_count": 11,
   "metadata": {
    "editable": false,
    "execution": {
     "iopub.execute_input": "2022-10-13T01:24:48.884089Z",
     "iopub.status.busy": "2022-10-13T01:24:48.883755Z",
     "iopub.status.idle": "2022-10-13T01:24:48.887896Z",
     "shell.execute_reply": "2022-10-13T01:24:48.887171Z"
    },
    "slideshow": {
     "slide_type": "slide"
    }
   },
   "outputs": [
    {
     "name": "stdout",
     "output_type": "stream",
     "text": [
      "A4 appears correct\n"
     ]
    }
   ],
   "source": [
    "# You cannot and should not update the following line\n",
    "check('A4', A4, points=5)"
   ]
  },
  {
   "cell_type": "markdown",
   "metadata": {
    "editable": false,
    "slideshow": {
     "slide_type": "slide"
    }
   },
   "source": [
    "__5.__ Now suppose we add a two-level index to the roster. The one-page primary index lists the first name on each of the secondary index pages. The secondary index pages list the first name on each of the roster pages. Assume no first name has more than 1 page of entries. How many pages must be examined to look up a given first name?"
   ]
  },
  {
   "cell_type": "code",
   "execution_count": 12,
   "metadata": {
    "execution": {
     "iopub.execute_input": "2022-10-13T01:24:48.891090Z",
     "iopub.status.busy": "2022-10-13T01:24:48.890631Z",
     "iopub.status.idle": "2022-10-13T01:24:48.894783Z",
     "shell.execute_reply": "2022-10-13T01:24:48.894051Z"
    },
    "slideshow": {
     "slide_type": "slide"
    }
   },
   "outputs": [
    {
     "name": "stdout",
     "output_type": "stream",
     "text": [
      "Given a two-level index, it requires 3 pages for a name lookup.\n"
     ]
    }
   ],
   "source": [
    "# compute your answer into A5\n",
    "A5 = int(math.log(P)/2)\n",
    "\n",
    "print (f'Given a two-level index, it requires {A5} pages for a name lookup.')"
   ]
  },
  {
   "cell_type": "code",
   "execution_count": 13,
   "metadata": {
    "editable": false,
    "execution": {
     "iopub.execute_input": "2022-10-13T01:24:48.897732Z",
     "iopub.status.busy": "2022-10-13T01:24:48.897409Z",
     "iopub.status.idle": "2022-10-13T01:24:48.901510Z",
     "shell.execute_reply": "2022-10-13T01:24:48.900816Z"
    },
    "slideshow": {
     "slide_type": "slide"
    }
   },
   "outputs": [
    {
     "name": "stdout",
     "output_type": "stream",
     "text": [
      "A5 appears correct\n"
     ]
    }
   ],
   "source": [
    "# You cannot and should not update the following line\n",
    "check('A5', A5, points=5)"
   ]
  },
  {
   "cell_type": "markdown",
   "metadata": {
    "editable": false,
    "slideshow": {
     "slide_type": "slide"
    }
   },
   "source": [
    "## Part 2\n",
    "\n",
    "Consider a disk with a total disk capacity of $C_{disk}$ TB, a surface capacity of $C_{surf}$ GB, and a sector size of $C_{sect}$ bytes. There are $S_t$ sectors per track. The average seek time is $T_{seek}$ seconds. \n",
    "\n",
    "I'm using the binary versions of Tera, Mega, etc. $T = 2^{40}$, $G = 2^{30}$, $M = 2^{20}$, etc.\n",
    "\n",
    "__6.__ What is the capacity of a single track in MB?"
   ]
  },
  {
   "cell_type": "code",
   "execution_count": 14,
   "metadata": {
    "execution": {
     "iopub.execute_input": "2022-10-13T01:24:48.904690Z",
     "iopub.status.busy": "2022-10-13T01:24:48.904367Z",
     "iopub.status.idle": "2022-10-13T01:24:48.908557Z",
     "shell.execute_reply": "2022-10-13T01:24:48.907859Z"
    },
    "slideshow": {
     "slide_type": "slide"
    }
   },
   "outputs": [
    {
     "name": "stdout",
     "output_type": "stream",
     "text": [
      "The capacity of a single track is 16.0 MB\n"
     ]
    }
   ],
   "source": [
    "# compute your answer into A6\n",
    "A6 = (2**-20)* Csect * St\n",
    "\n",
    "print(f'The capacity of a single track is {A6} MB')"
   ]
  },
  {
   "cell_type": "code",
   "execution_count": 15,
   "metadata": {
    "editable": false,
    "execution": {
     "iopub.execute_input": "2022-10-13T01:24:48.911541Z",
     "iopub.status.busy": "2022-10-13T01:24:48.911220Z",
     "iopub.status.idle": "2022-10-13T01:24:48.915265Z",
     "shell.execute_reply": "2022-10-13T01:24:48.914563Z"
    },
    "slideshow": {
     "slide_type": "slide"
    }
   },
   "outputs": [
    {
     "name": "stdout",
     "output_type": "stream",
     "text": [
      "A6 appears correct\n"
     ]
    }
   ],
   "source": [
    "# You cannot and should not update the following line\n",
    "check('A6', A6, points=5)"
   ]
  },
  {
   "cell_type": "markdown",
   "metadata": {
    "editable": false,
    "slideshow": {
     "slide_type": "slide"
    }
   },
   "source": [
    "__7.__ How many tracks are on each surface?"
   ]
  },
  {
   "cell_type": "code",
   "execution_count": 16,
   "metadata": {
    "execution": {
     "iopub.execute_input": "2022-10-13T01:24:48.918538Z",
     "iopub.status.busy": "2022-10-13T01:24:48.917947Z",
     "iopub.status.idle": "2022-10-13T01:24:48.922247Z",
     "shell.execute_reply": "2022-10-13T01:24:48.921549Z"
    },
    "slideshow": {
     "slide_type": "slide"
    }
   },
   "outputs": [
    {
     "name": "stdout",
     "output_type": "stream",
     "text": [
      "There are 8192.0 tracks on each surface\n"
     ]
    }
   ],
   "source": [
    "# compute your answer into A7\n",
    "A7 = (Csurf) / ((St*Csect)*(2**-30))\n",
    "\n",
    "print(f'There are {A7} tracks on each surface')"
   ]
  },
  {
   "cell_type": "code",
   "execution_count": 17,
   "metadata": {
    "editable": false,
    "execution": {
     "iopub.execute_input": "2022-10-13T01:24:48.925256Z",
     "iopub.status.busy": "2022-10-13T01:24:48.924925Z",
     "iopub.status.idle": "2022-10-13T01:24:48.929169Z",
     "shell.execute_reply": "2022-10-13T01:24:48.928472Z"
    },
    "slideshow": {
     "slide_type": "slide"
    }
   },
   "outputs": [
    {
     "name": "stdout",
     "output_type": "stream",
     "text": [
      "A7 appears correct\n"
     ]
    }
   ],
   "source": [
    "# You cannot and should not update the following line\n",
    "check('A7', A7, points=5)"
   ]
  },
  {
   "cell_type": "markdown",
   "metadata": {
    "editable": false,
    "slideshow": {
     "slide_type": "slide"
    }
   },
   "source": [
    "__8.__ How many platters are in this disk? Each platter has 2 surfaces."
   ]
  },
  {
   "cell_type": "code",
   "execution_count": 18,
   "metadata": {
    "execution": {
     "iopub.execute_input": "2022-10-13T01:24:48.932301Z",
     "iopub.status.busy": "2022-10-13T01:24:48.931781Z",
     "iopub.status.idle": "2022-10-13T01:24:48.936060Z",
     "shell.execute_reply": "2022-10-13T01:24:48.935368Z"
    },
    "slideshow": {
     "slide_type": "slide"
    }
   },
   "outputs": [
    {
     "name": "stdout",
     "output_type": "stream",
     "text": [
      "There are 8.0 platters in this disk.\n"
     ]
    }
   ],
   "source": [
    "# compute your answer into A8\n",
    "A8 = Cdisk/(Csurf * 2 * (2**-10))\n",
    "\n",
    "print(f'There are {A8} platters in this disk.')"
   ]
  },
  {
   "cell_type": "code",
   "execution_count": 19,
   "metadata": {
    "editable": false,
    "execution": {
     "iopub.execute_input": "2022-10-13T01:24:48.939194Z",
     "iopub.status.busy": "2022-10-13T01:24:48.938665Z",
     "iopub.status.idle": "2022-10-13T01:24:48.942848Z",
     "shell.execute_reply": "2022-10-13T01:24:48.942065Z"
    },
    "slideshow": {
     "slide_type": "slide"
    }
   },
   "outputs": [
    {
     "name": "stdout",
     "output_type": "stream",
     "text": [
      "A8 appears correct\n"
     ]
    }
   ],
   "source": [
    "# You cannot and should not update the following line\n",
    "check('A8', A8, points=5)"
   ]
  },
  {
   "cell_type": "markdown",
   "metadata": {
    "editable": false,
    "slideshow": {
     "slide_type": "slide"
    }
   },
   "source": [
    "__9.__ How many cylinders are in this disk?"
   ]
  },
  {
   "cell_type": "code",
   "execution_count": 20,
   "metadata": {
    "execution": {
     "iopub.execute_input": "2022-10-13T01:24:48.945950Z",
     "iopub.status.busy": "2022-10-13T01:24:48.945626Z",
     "iopub.status.idle": "2022-10-13T01:24:48.949707Z",
     "shell.execute_reply": "2022-10-13T01:24:48.949005Z"
    },
    "slideshow": {
     "slide_type": "slide"
    }
   },
   "outputs": [
    {
     "name": "stdout",
     "output_type": "stream",
     "text": [
      "There are 8192.0 cylinders in this disk\n"
     ]
    }
   ],
   "source": [
    "# compute your answer into A9\n",
    "A9 = Csurf/(St*Csect*(2**-30))\n",
    "\n",
    "print(f'There are {A9} cylinders in this disk')"
   ]
  },
  {
   "cell_type": "code",
   "execution_count": 21,
   "metadata": {
    "editable": false,
    "execution": {
     "iopub.execute_input": "2022-10-13T01:24:48.952757Z",
     "iopub.status.busy": "2022-10-13T01:24:48.952209Z",
     "iopub.status.idle": "2022-10-13T01:24:48.956405Z",
     "shell.execute_reply": "2022-10-13T01:24:48.955723Z"
    },
    "slideshow": {
     "slide_type": "slide"
    }
   },
   "outputs": [
    {
     "name": "stdout",
     "output_type": "stream",
     "text": [
      "A9 appears correct\n"
     ]
    }
   ],
   "source": [
    "# You cannot and should not update the following line\n",
    "check('A9', A9, points=5)"
   ]
  },
  {
   "cell_type": "markdown",
   "metadata": {
    "editable": false,
    "slideshow": {
     "slide_type": "slide"
    }
   },
   "source": [
    "__10.__ If the maximum rotational delay is $T_{rotation}$ what is the spinning speed of the disk in revolutions per minute (RPM)?"
   ]
  },
  {
   "cell_type": "code",
   "execution_count": 22,
   "metadata": {
    "execution": {
     "iopub.execute_input": "2022-10-13T01:24:48.959342Z",
     "iopub.status.busy": "2022-10-13T01:24:48.959009Z",
     "iopub.status.idle": "2022-10-13T01:24:48.963198Z",
     "shell.execute_reply": "2022-10-13T01:24:48.962474Z"
    },
    "slideshow": {
     "slide_type": "slide"
    }
   },
   "outputs": [
    {
     "name": "stdout",
     "output_type": "stream",
     "text": [
      "The spinning speed of the disk in revolutions per minute is 6000.0 RPMS\n"
     ]
    }
   ],
   "source": [
    "# compute your answer into A10\n",
    "A10 = (1.0/Trotation)*60\n",
    "\n",
    "print(f'The spinning speed of the disk in revolutions per minute is {A10} RPMS')"
   ]
  },
  {
   "cell_type": "code",
   "execution_count": 23,
   "metadata": {
    "editable": false,
    "execution": {
     "iopub.execute_input": "2022-10-13T01:24:48.966299Z",
     "iopub.status.busy": "2022-10-13T01:24:48.965787Z",
     "iopub.status.idle": "2022-10-13T01:24:48.970003Z",
     "shell.execute_reply": "2022-10-13T01:24:48.969245Z"
    },
    "slideshow": {
     "slide_type": "slide"
    }
   },
   "outputs": [
    {
     "name": "stdout",
     "output_type": "stream",
     "text": [
      "A10 appears correct\n"
     ]
    }
   ],
   "source": [
    "# You cannot and should not update the following line\n",
    "check('A10', A10, points=5)"
   ]
  },
  {
   "cell_type": "markdown",
   "metadata": {
    "editable": false,
    "slideshow": {
     "slide_type": "slide"
    }
   },
   "source": [
    "__11.__ Suppose that a file containing $N_{file}$ records of 250 bytes each is to be stored on such a disk, and that no record is allowed to span two blocks. Assume a block size of $C_{block}$ bytes. How many blocks are required to store the entire file?"
   ]
  },
  {
   "cell_type": "code",
   "execution_count": 24,
   "metadata": {
    "execution": {
     "iopub.execute_input": "2022-10-13T01:24:48.973256Z",
     "iopub.status.busy": "2022-10-13T01:24:48.972704Z",
     "iopub.status.idle": "2022-10-13T01:24:48.977213Z",
     "shell.execute_reply": "2022-10-13T01:24:48.976529Z"
    },
    "slideshow": {
     "slide_type": "slide"
    }
   },
   "outputs": [
    {
     "name": "stdout",
     "output_type": "stream",
     "text": [
      "It requires 62500.0 blocks to store the entire file.\n"
     ]
    }
   ],
   "source": [
    "# Leave your answer in A11\n",
    "A11 = (Nfile/math.floor(Cblock/250))\n",
    "\n",
    "print(f'It requires {A11} blocks to store the entire file.')"
   ]
  },
  {
   "cell_type": "code",
   "execution_count": 25,
   "metadata": {
    "editable": false,
    "execution": {
     "iopub.execute_input": "2022-10-13T01:24:48.980089Z",
     "iopub.status.busy": "2022-10-13T01:24:48.979767Z",
     "iopub.status.idle": "2022-10-13T01:24:48.983947Z",
     "shell.execute_reply": "2022-10-13T01:24:48.983206Z"
    },
    "slideshow": {
     "slide_type": "slide"
    }
   },
   "outputs": [
    {
     "name": "stdout",
     "output_type": "stream",
     "text": [
      "A11 appears correct\n"
     ]
    }
   ],
   "source": [
    "# You cannot and should not update this line\n",
    "check('A11', int(A11), points=5)"
   ]
  },
  {
   "cell_type": "markdown",
   "metadata": {
    "editable": false,
    "slideshow": {
     "slide_type": "slide"
    }
   },
   "source": [
    "## Part 3\n",
    "\n",
    "## 1. Find the following using SQL queries"
   ]
  },
  {
   "cell_type": "code",
   "execution_count": 26,
   "metadata": {
    "execution": {
     "iopub.execute_input": "2022-10-13T01:24:48.986908Z",
     "iopub.status.busy": "2022-10-13T01:24:48.986586Z",
     "iopub.status.idle": "2022-10-13T01:24:48.992086Z",
     "shell.execute_reply": "2022-10-13T01:24:48.991362Z"
    },
    "slideshow": {
     "slide_type": "slide"
    }
   },
   "outputs": [
    {
     "name": "stdout",
     "output_type": "stream",
     "text": [
      "The schema for the movies database is:\n",
      "CREATE TABLE Titles (\n",
      "     t_id INTEGER PRIMARY KEY,\n",
      "     primaryTitle text\n",
      "     )\n",
      "CREATE TABLE Ratings (\n",
      "     r_id INTEGER PRIMARY KEY,\n",
      "     t_id INTEGER,\n",
      "     averageRating FLOAT,\n",
      "     numVotes INTEGER,\n",
      "     FOREIGN KEY(t_id) REFERENCES Titles(t_id)\n",
      "     )\n",
      "CREATE TABLE Names (\n",
      "     n_id INTEGER PRIMARY KEY,\n",
      "     primaryName TEXT,\n",
      "     birthYear INTEGER,\n",
      "     deathYear INTEGER\n",
      "     )\n",
      "CREATE TABLE WorkedOn (\n",
      "     t_id INTEGER,\n",
      "     n_id INTEGER,\n",
      "     category TEXT,\n",
      "     FOREIGN KEY(t_id) REFERENCES Titles(t_id),\n",
      "     FOREIGN KEY(n_id) REFERENCES Names(n_id)\n",
      "     )\n"
     ]
    }
   ],
   "source": [
    "# Set up the database\n",
    "conn = sqlite3.connect('movies.sqlite')\n",
    "cursor = conn.cursor()\n",
    "cursor.execute('PRAGMA foreign_keys = ON')\n",
    "\n",
    "print('The schema for the movies database is:')\n",
    "with open('movies.json') as fid:\n",
    "    print(json.load(fid))"
   ]
  },
  {
   "cell_type": "markdown",
   "metadata": {
    "editable": false,
    "slideshow": {
     "slide_type": "slide"
    }
   },
   "source": [
    "**1a** Tom Holland appeared in _Spider-Man: Homecoming_.\n",
    "\n",
    "Set variable `q1a` equal to a query to get the year Tom Holland was born."
   ]
  },
  {
   "cell_type": "code",
   "execution_count": 27,
   "metadata": {
    "execution": {
     "iopub.execute_input": "2022-10-13T01:24:48.995215Z",
     "iopub.status.busy": "2022-10-13T01:24:48.994787Z",
     "iopub.status.idle": "2022-10-13T01:24:48.999513Z",
     "shell.execute_reply": "2022-10-13T01:24:48.998795Z"
    },
    "slideshow": {
     "slide_type": "slide"
    }
   },
   "outputs": [
    {
     "name": "stdout",
     "output_type": "stream",
     "text": [
      "Tom Holland was born in 1996\n"
     ]
    }
   ],
   "source": [
    "# write your query as a single string here\n",
    "q1a = \"\"\"SELECT N.birthYear FROM Names AS N WHERE N.primaryName= 'Tom Holland'\"\"\"\n",
    "\n",
    "# code to execute your query, leave this alone\n",
    "print(f'Tom Holland was born in {cursor.execute(q1a).fetchone()[0]}')"
   ]
  },
  {
   "cell_type": "code",
   "execution_count": 28,
   "metadata": {
    "editable": false,
    "execution": {
     "iopub.execute_input": "2022-10-13T01:24:49.002539Z",
     "iopub.status.busy": "2022-10-13T01:24:49.002078Z",
     "iopub.status.idle": "2022-10-13T01:24:49.006828Z",
     "shell.execute_reply": "2022-10-13T01:24:49.006090Z"
    },
    "slideshow": {
     "slide_type": "slide"
    }
   },
   "outputs": [
    {
     "name": "stdout",
     "output_type": "stream",
     "text": [
      "1a appears correct\n"
     ]
    }
   ],
   "source": [
    "# you cannot and should not update this cell\n",
    "cursor.execute(q1a)\n",
    "year = cursor.fetchone()[0]\n",
    "check('1a', year, points=8)"
   ]
  },
  {
   "cell_type": "markdown",
   "metadata": {
    "editable": false,
    "slideshow": {
     "slide_type": "slide"
    }
   },
   "source": [
    "**1b**. How many people involved in Marvel movies were also born in 1996?\n",
    "\n",
    "Set the variable `q1b` equal to the number of people involved in Marvel movies that were born in 1996."
   ]
  },
  {
   "cell_type": "code",
   "execution_count": 29,
   "metadata": {
    "execution": {
     "iopub.execute_input": "2022-10-13T01:24:49.009955Z",
     "iopub.status.busy": "2022-10-13T01:24:49.009507Z",
     "iopub.status.idle": "2022-10-13T01:24:49.014184Z",
     "shell.execute_reply": "2022-10-13T01:24:49.013505Z"
    },
    "slideshow": {
     "slide_type": "slide"
    }
   },
   "outputs": [
    {
     "name": "stdout",
     "output_type": "stream",
     "text": [
      "There were 3 people involved in Marvel movies who were born in 1996\n"
     ]
    }
   ],
   "source": [
    "a1b = \"\"\"SELECT COUNT(N.birthYear) FROM Names AS N WHERE N.birthYear=1996\"\"\"\n",
    "\n",
    "# test code\n",
    "q1b = cursor.execute(a1b).fetchone()[0]\n",
    "print(f'There were {q1b} people involved in Marvel movies who were born in 1996')"
   ]
  },
  {
   "cell_type": "code",
   "execution_count": 30,
   "metadata": {
    "editable": false,
    "execution": {
     "iopub.execute_input": "2022-10-13T01:24:49.017040Z",
     "iopub.status.busy": "2022-10-13T01:24:49.016699Z",
     "iopub.status.idle": "2022-10-13T01:24:49.020790Z",
     "shell.execute_reply": "2022-10-13T01:24:49.020083Z"
    },
    "slideshow": {
     "slide_type": "slide"
    }
   },
   "outputs": [
    {
     "name": "stdout",
     "output_type": "stream",
     "text": [
      "1b appears correct\n"
     ]
    }
   ],
   "source": [
    "# you cannot and should not update this cell\n",
    "check('1b', q1b, points=5)"
   ]
  },
  {
   "cell_type": "markdown",
   "metadata": {
    "editable": false,
    "slideshow": {
     "slide_type": "slide"
    }
   },
   "source": [
    "**1c**. What are the name and birth year of the oldest person involved in Marvel movies?\n",
    "\n",
    "Determine the person involved in Marvel movies that was born first.\n",
    "Set the variable `q1c` equal to the tuple of that person's name followed by the year they were born.\n",
    "\n",
    "If multiple people are born in the same year, order the tuples of name, year alphabetically by name."
   ]
  },
  {
   "cell_type": "code",
   "execution_count": 31,
   "metadata": {
    "execution": {
     "iopub.execute_input": "2022-10-13T01:24:49.024457Z",
     "iopub.status.busy": "2022-10-13T01:24:49.023611Z",
     "iopub.status.idle": "2022-10-13T01:24:49.029952Z",
     "shell.execute_reply": "2022-10-13T01:24:49.029087Z"
    },
    "slideshow": {
     "slide_type": "slide"
    }
   },
   "outputs": [
    {
     "name": "stdout",
     "output_type": "stream",
     "text": [
      "Joe Simon was born in 1913\n"
     ]
    }
   ],
   "source": [
    "a1c = \"\"\"SELECT N.primaryName, MIN(N.birthYear) FROM Names AS N\"\"\"\n",
    "\n",
    "# test\n",
    "q1c = cursor.execute(a1c).fetchall()\n",
    "for row in q1c:\n",
    "    print(f'{row[0]} was born in {row[1]}')"
   ]
  },
  {
   "cell_type": "code",
   "execution_count": 32,
   "metadata": {
    "editable": false,
    "execution": {
     "iopub.execute_input": "2022-10-13T01:24:49.033012Z",
     "iopub.status.busy": "2022-10-13T01:24:49.032612Z",
     "iopub.status.idle": "2022-10-13T01:24:49.037340Z",
     "shell.execute_reply": "2022-10-13T01:24:49.036609Z"
    },
    "slideshow": {
     "slide_type": "slide"
    }
   },
   "outputs": [
    {
     "name": "stdout",
     "output_type": "stream",
     "text": [
      "1c appears correct\n"
     ]
    }
   ],
   "source": [
    "# you cannot and should not update this cell\n",
    "check('1c', q1c, points=5)"
   ]
  },
  {
   "cell_type": "markdown",
   "metadata": {
    "editable": false,
    "slideshow": {
     "slide_type": "slide"
    }
   },
   "source": [
    "**1d**. How many baby boomer worked on Marvel movies?\n",
    "\n",
    "A [baby boomer](https://en.wikipedia.org/wiki/Baby_boomers) is someone who was born between 1946 and 1964, inclusive.\n",
    "\n",
    "Set the variable `q1d` to the number of people involved in Marvel movies that are baby boomers."
   ]
  },
  {
   "cell_type": "code",
   "execution_count": 33,
   "metadata": {
    "execution": {
     "iopub.execute_input": "2022-10-13T01:24:49.040542Z",
     "iopub.status.busy": "2022-10-13T01:24:49.040308Z",
     "iopub.status.idle": "2022-10-13T01:24:49.045465Z",
     "shell.execute_reply": "2022-10-13T01:24:49.044628Z"
    },
    "slideshow": {
     "slide_type": "slide"
    }
   },
   "outputs": [
    {
     "name": "stdout",
     "output_type": "stream",
     "text": [
      "There are 40 people who worked on Marvel movies and are baby boomers\n"
     ]
    }
   ],
   "source": [
    "a1d = \"\"\"SELECT COUNT(N.birthYear) FROM Names AS N WHERE N.birthYear BETWEEN 1946 AND 1964\"\"\"\n",
    "\n",
    "# test\n",
    "q1d = cursor.execute(a1d).fetchone()[0]\n",
    "print(f'There are {q1d} people who worked on Marvel movies and are baby boomers')"
   ]
  },
  {
   "cell_type": "code",
   "execution_count": 34,
   "metadata": {
    "editable": false,
    "execution": {
     "iopub.execute_input": "2022-10-13T01:24:49.048365Z",
     "iopub.status.busy": "2022-10-13T01:24:49.048137Z",
     "iopub.status.idle": "2022-10-13T01:24:49.052982Z",
     "shell.execute_reply": "2022-10-13T01:24:49.052173Z"
    },
    "slideshow": {
     "slide_type": "slide"
    }
   },
   "outputs": [
    {
     "name": "stdout",
     "output_type": "stream",
     "text": [
      "1d appears correct\n"
     ]
    }
   ],
   "source": [
    "# You cannot and should not update this cell\n",
    "check('1d', q1d, points=5)"
   ]
  },
  {
   "cell_type": "markdown",
   "metadata": {
    "editable": false,
    "slideshow": {
     "slide_type": "slide"
    }
   },
   "source": [
    "**1e**. How many rating votes were given for all the Marvel movies?\n",
    "\n",
    "Set variable `a1e` to the total number of votes for all the Marvel movies?"
   ]
  },
  {
   "cell_type": "code",
   "execution_count": 35,
   "metadata": {
    "execution": {
     "iopub.execute_input": "2022-10-13T01:24:49.056372Z",
     "iopub.status.busy": "2022-10-13T01:24:49.055628Z",
     "iopub.status.idle": "2022-10-13T01:24:49.060262Z",
     "shell.execute_reply": "2022-10-13T01:24:49.059634Z"
    },
    "slideshow": {
     "slide_type": "slide"
    }
   },
   "outputs": [
    {
     "name": "stdout",
     "output_type": "stream",
     "text": [
      "There were a total of 14918442 rating votes for all the Marvel movies\n"
     ]
    }
   ],
   "source": [
    "a1e = \"\"\"SELECT SUM(R.numVotes) FROM Ratings AS R\"\"\"\n",
    "\n",
    "# test\n",
    "q1e = cursor.execute(a1e).fetchone()[0]\n",
    "print(f'There were a total of {q1e} rating votes for all the Marvel movies')"
   ]
  },
  {
   "cell_type": "code",
   "execution_count": 36,
   "metadata": {
    "editable": false,
    "execution": {
     "iopub.execute_input": "2022-10-13T01:24:49.063123Z",
     "iopub.status.busy": "2022-10-13T01:24:49.062915Z",
     "iopub.status.idle": "2022-10-13T01:24:49.067414Z",
     "shell.execute_reply": "2022-10-13T01:24:49.066584Z"
    },
    "slideshow": {
     "slide_type": "slide"
    }
   },
   "outputs": [
    {
     "name": "stdout",
     "output_type": "stream",
     "text": [
      "1e appears correct\n"
     ]
    }
   ],
   "source": [
    "# You cannot and should not update this cell\n",
    "check('1e', q1e, points=5)"
   ]
  },
  {
   "cell_type": "markdown",
   "metadata": {
    "editable": false,
    "slideshow": {
     "slide_type": "slide"
    }
   },
   "source": [
    "## 2. Fill in the body of the functions below.\n",
    "\n",
    "**2a**. Fill in the code below to make this function return the title(s) of\n",
    "the movies that were produced by a person.\n",
    "The person who produces a movie has the job category of 'producer'.\n",
    "\n",
    "**INPUT**: The function will take a parameter `primaryName`.  \n",
    "**OUTPUT**: The function will return an alphabetically sorted list of the names of the titles of movies produced by that person.\n",
    "\n"
   ]
  },
  {
   "cell_type": "code",
   "execution_count": 37,
   "metadata": {
    "execution": {
     "iopub.execute_input": "2022-10-13T01:24:49.070464Z",
     "iopub.status.busy": "2022-10-13T01:24:49.070146Z",
     "iopub.status.idle": "2022-10-13T01:24:49.078398Z",
     "shell.execute_reply": "2022-10-13T01:24:49.077578Z"
    },
    "slideshow": {
     "slide_type": "slide"
    }
   },
   "outputs": [
    {
     "name": "stdout",
     "output_type": "stream",
     "text": [
      "Kevin Feige produced the following:\n",
      "   Avengers: Age of Ultron\n",
      "   Captain America: The First Avenger\n",
      "   Doctor Strange\n",
      "   Doctor Strange in the Multiverse of Madness\n",
      "   Guardians of the Galaxy Vol.3\n",
      "   Spider-Man: Far from Home\n",
      "   The Incredible Hulk\n"
     ]
    }
   ],
   "source": [
    "def f2a(primaryName):\n",
    "    #your code here\n",
    "    a42a= \"\"\"SELECT T.primaryTitle FROM Titles AS T, WorkedOn AS W, Names AS N WHERE T.t_id=W.t_id AND W.n_id=N.n_id AND N.primaryName=? AND W.category='producer' ORDER BY T.primaryTitle ASC\"\"\"\n",
    "    testing = cursor.execute(a42a, [primaryName]).fetchall()\n",
    "    return [r[0] for r in testing]\n",
    "\n",
    "primaryName = 'Kevin Feige'\n",
    "q2a = f2a(primaryName)\n",
    "print(f'{primaryName} produced the following:')\n",
    "for t in q2a:\n",
    "    print(f'   {t}')"
   ]
  },
  {
   "cell_type": "code",
   "execution_count": 38,
   "metadata": {
    "editable": false,
    "execution": {
     "iopub.execute_input": "2022-10-13T01:24:49.081408Z",
     "iopub.status.busy": "2022-10-13T01:24:49.081027Z",
     "iopub.status.idle": "2022-10-13T01:24:49.086895Z",
     "shell.execute_reply": "2022-10-13T01:24:49.086111Z"
    },
    "slideshow": {
     "slide_type": "slide"
    }
   },
   "outputs": [
    {
     "name": "stdout",
     "output_type": "stream",
     "text": [
      "2a appears correct\n"
     ]
    }
   ],
   "source": [
    "# You cannot and should not update this cell\n",
    "q2a = f2a('Kevin Feige')\n",
    "check('2a', q2a, points=5)"
   ]
  },
  {
   "cell_type": "markdown",
   "metadata": {
    "editable": false,
    "slideshow": {
     "slide_type": "slide"
    }
   },
   "source": [
    "**2b**. Write a function that takes a string representing some part of a film title, and returns a list of tuples of the titles that match and the producers of that title. Sort this list alphabetically by movie title.\n"
   ]
  },
  {
   "cell_type": "code",
   "execution_count": 39,
   "metadata": {
    "execution": {
     "iopub.execute_input": "2022-10-13T01:24:49.090200Z",
     "iopub.status.busy": "2022-10-13T01:24:49.089854Z",
     "iopub.status.idle": "2022-10-13T01:24:49.095452Z",
     "shell.execute_reply": "2022-10-13T01:24:49.094759Z"
    },
    "slideshow": {
     "slide_type": "slide"
    }
   },
   "outputs": [
    {
     "name": "stdout",
     "output_type": "stream",
     "text": [
      "The The Incredible Hulk was produced by Kevin Feige\n",
      "The The Incredible Hulk was produced by Avi Arad\n"
     ]
    }
   ],
   "source": [
    "def f2b(title):\n",
    "    #your code here\n",
    "    a42b= f\"\"\"SELECT T.primaryTitle, N.primaryName FROM Titles AS T, Names AS N, WorkedOn AS W WHERE T.primaryTitle LIKE '%{title}' AND T.t_id=W.t_id AND W.n_id=N.n_id AND W.category='producer' ORDER BY T.primaryTitle DESC\"\"\"\n",
    "    testing=cursor.execute(a42b).fetchall()\n",
    "    return testing\n",
    "    \n",
    "q2b = f2b('Hulk')\n",
    "for row in q2b:\n",
    "    print(f'The {row[0]} was produced by {row[1]}')"
   ]
  },
  {
   "cell_type": "code",
   "execution_count": 40,
   "metadata": {
    "editable": false,
    "execution": {
     "iopub.execute_input": "2022-10-13T01:24:49.098544Z",
     "iopub.status.busy": "2022-10-13T01:24:49.098305Z",
     "iopub.status.idle": "2022-10-13T01:24:49.102353Z",
     "shell.execute_reply": "2022-10-13T01:24:49.101661Z"
    },
    "slideshow": {
     "slide_type": "slide"
    }
   },
   "outputs": [
    {
     "name": "stdout",
     "output_type": "stream",
     "text": [
      "2b appears correct\n"
     ]
    }
   ],
   "source": [
    "# You cannot and should not update this cell\n",
    "check('2b', q2b, points=5)"
   ]
  },
  {
   "cell_type": "markdown",
   "metadata": {
    "editable": false,
    "slideshow": {
     "slide_type": "slide"
    }
   },
   "source": [
    "**2c.** Write a function that takes as input a job category and returns the oldest still living person(s) who are still living that worked on Marvel movies in that category\n",
    "\n",
    "**INPUT:** A category such as `producer`, `actor`, `director`, etc  \n",
    "**OUTPUT:** A alphabetically sorted list of unique names of people who are the oldest, still living people who worked on Marvel movies.\n",
    "\n",
    "**NOTE:** Since the database only gives birth years, oldest is defined as being born in the earliest year and having a NULL deathYear."
   ]
  },
  {
   "cell_type": "code",
   "execution_count": 41,
   "metadata": {
    "execution": {
     "iopub.execute_input": "2022-10-13T01:24:49.105915Z",
     "iopub.status.busy": "2022-10-13T01:24:49.105709Z",
     "iopub.status.idle": "2022-10-13T01:24:49.113042Z",
     "shell.execute_reply": "2022-10-13T01:24:49.112295Z"
    },
    "slideshow": {
     "slide_type": "slide"
    }
   },
   "outputs": [
    {
     "name": "stdout",
     "output_type": "stream",
     "text": [
      "The oldest writers who worked on Marvel movies are:\n",
      "   Larry Lieber\n"
     ]
    }
   ],
   "source": [
    "def f2c(category):\n",
    "    # your code here\n",
    "    a42c= f\"\"\"SELECT DISTINCT N.primaryName FROM Names AS N, WorkedOn AS W WHERE W.n_id=N.n_id AND W.category='{category}' AND N.birthYear=(SELECT MIN(N.birthYear) FROM Names AS N WHERE N.deathYear IS NULL) ORDER BY N.primaryName\"\"\"\n",
    "    testing=cursor.execute(a42c).fetchall()\n",
    "    return [row[0] for row in testing]\n",
    "    \n",
    "q2c = f2c('writer')\n",
    "print('The oldest writers who worked on Marvel movies are:')\n",
    "for n in q2c:\n",
    "    print(f'   {n}')"
   ]
  },
  {
   "cell_type": "code",
   "execution_count": 42,
   "metadata": {
    "editable": false,
    "execution": {
     "iopub.execute_input": "2022-10-13T01:24:49.116201Z",
     "iopub.status.busy": "2022-10-13T01:24:49.115994Z",
     "iopub.status.idle": "2022-10-13T01:24:49.120106Z",
     "shell.execute_reply": "2022-10-13T01:24:49.119380Z"
    },
    "slideshow": {
     "slide_type": "slide"
    }
   },
   "outputs": [
    {
     "name": "stdout",
     "output_type": "stream",
     "text": [
      "2c appears correct\n"
     ]
    }
   ],
   "source": [
    "# You cannot and should not update this cell\n",
    "check('2c', q2c, points=5)  "
   ]
  },
  {
   "cell_type": "code",
   "execution_count": 43,
   "metadata": {
    "deletable": false,
    "editable": false,
    "execution": {
     "iopub.execute_input": "2022-10-13T01:24:49.123050Z",
     "iopub.status.busy": "2022-10-13T01:24:49.122844Z",
     "iopub.status.idle": "2022-10-13T01:24:49.128641Z",
     "shell.execute_reply": "2022-10-13T01:24:49.127943Z"
    },
    "slideshow": {
     "slide_type": "slide"
    }
   },
   "outputs": [
    {
     "name": "stdout",
     "output_type": "stream",
     "text": [
      "  Collaborators: []\n",
      "Report for henryha\n",
      "  22 of 22 appear correct, 100 of 100 points\n"
     ]
    }
   ],
   "source": [
    "# You cannot and should not update this cell\n",
    "# This cell will produce a summary report of your assignment\n",
    "if Author == \"youronyen\" or Collaborators == [\"list\", \"their\", \"onyens\"]:\n",
    "    print(\"You didn't fill out cell 2!\")\n",
    "    Author = 'John Majikes gets all the points'\n",
    "    Collaborators = ['John', 'Paul', 'George', 'and', 'Ringo']\n",
    "report(Author, Collaborators)"
   ]
  },
  {
   "cell_type": "markdown",
   "metadata": {
    "editable": false,
    "slideshow": {
     "slide_type": "slide"
    }
   },
   "source": [
    "## Done!\n",
    "<img src=\"https://comp421.cs.unc.edu/static/images/restartAndClearOutput.png\" width=\"300\" style=\"float: right\" />\n",
    "\n",
    "Now go back, restart the kernel (menu <font color=\"green\">Kernel</font>-><font color=\"green\">Restart and Clear</font>), and then Shift-Enter your way through the notebook to run all the cells again so you an be sure all your code will work as you expect during grading."
   ]
  },
  {
   "cell_type": "markdown",
   "metadata": {
    "editable": false,
    "slideshow": {
     "slide_type": "slide"
    }
   },
   "source": [
    "## Saving your work\n",
    "<img src=\"https://comp421.cs.unc.edu/static/images/saveAndCheckpoint.png\" width=\"300\" style=\"float: right\" />\n",
    "\n",
    "Now save your work by going to (menu <font color='green'>File</font>-><font color='green'>Save and Checkpoint</font>)"
   ]
  },
  {
   "cell_type": "markdown",
   "metadata": {
    "editable": false,
    "slideshow": {
     "slide_type": "slide"
    }
   },
   "source": [
    "## Submit your notebook\n",
    "\n",
    "After saving, restarting the kernel, and verifying your report,\n",
    "you can submit your notebook.\n",
    "Go to https://comp421.cs.unc.edu/notebook\n",
    "\n",
    "\n",
    "Note that if you actually saved your work you should not see the leaving site message below.\n",
    "If you do see the `Leave Site` warning, cancel and save your work again.\n",
    "<br />\n",
    "<img src=\"https://comp421.cs.unc.edu/static/images/leaveSite.png\" width=\"300\" style=\"float: left\" />"
   ]
  },
  {
   "cell_type": "code",
   "execution_count": null,
   "metadata": {},
   "outputs": [],
   "source": []
  }
 ],
 "metadata": {
  "kernelspec": {
   "display_name": "Python 3",
   "language": "python",
   "name": "python3"
  },
  "language_info": {
   "codemirror_mode": {
    "name": "ipython",
    "version": 3
   },
   "file_extension": ".py",
   "mimetype": "text/x-python",
   "name": "python",
   "nbconvert_exporter": "python",
   "pygments_lexer": "ipython3",
   "version": "3.8.8"
  },
  "rise": {
   "enable_chalkboard": true,
   "scroll": true,
   "theme": "comp116"
  }
 },
 "nbformat": 4,
 "nbformat_minor": 1
}
